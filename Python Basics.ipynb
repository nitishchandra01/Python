{
 "cells": [
  {
   "cell_type": "code",
   "execution_count": 1,
   "id": "aa62d3b8-b387-4da1-8fd1-821c124e4d95",
   "metadata": {},
   "outputs": [
    {
     "data": {
      "text/plain": [
       "2"
      ]
     },
     "execution_count": 1,
     "metadata": {},
     "output_type": "execute_result"
    }
   ],
   "source": [
    "1+1"
   ]
  },
  {
   "cell_type": "code",
   "execution_count": 2,
   "id": "24704224-f300-4e41-a1b5-0aef65def0d0",
   "metadata": {},
   "outputs": [
    {
     "data": {
      "text/plain": [
       "25"
      ]
     },
     "execution_count": 2,
     "metadata": {},
     "output_type": "execute_result"
    }
   ],
   "source": [
    "5*5"
   ]
  },
  {
   "cell_type": "code",
   "execution_count": 3,
   "id": "0dc6009f-b7c4-4e29-bcf2-cd127d3c39a2",
   "metadata": {},
   "outputs": [],
   "source": [
    "a = 10"
   ]
  },
  {
   "cell_type": "code",
   "execution_count": 4,
   "id": "ea55c8dc-7abe-4530-b640-86950d134c16",
   "metadata": {},
   "outputs": [
    {
     "data": {
      "text/plain": [
       "10"
      ]
     },
     "execution_count": 4,
     "metadata": {},
     "output_type": "execute_result"
    }
   ],
   "source": [
    "a"
   ]
  },
  {
   "cell_type": "code",
   "execution_count": 5,
   "id": "76161495-97c0-4307-9906-c21c5901561b",
   "metadata": {},
   "outputs": [],
   "source": [
    "Nitish = 20"
   ]
  },
  {
   "cell_type": "code",
   "execution_count": 6,
   "id": "aa153b32-101a-4247-b609-9469473e0f88",
   "metadata": {},
   "outputs": [
    {
     "data": {
      "text/plain": [
       "20"
      ]
     },
     "execution_count": 6,
     "metadata": {},
     "output_type": "execute_result"
    }
   ],
   "source": [
    "Nitish"
   ]
  },
  {
   "cell_type": "code",
   "execution_count": 7,
   "id": "75142beb-ad04-440f-a54d-b3897476d053",
   "metadata": {},
   "outputs": [
    {
     "data": {
      "text/plain": [
       "30"
      ]
     },
     "execution_count": 7,
     "metadata": {},
     "output_type": "execute_result"
    }
   ],
   "source": [
    "a + Nitish"
   ]
  },
  {
   "cell_type": "code",
   "execution_count": 8,
   "id": "f3a73ade-9340-4c96-818a-53e1e92eafb4",
   "metadata": {},
   "outputs": [
    {
     "data": {
      "text/plain": [
       "int"
      ]
     },
     "execution_count": 8,
     "metadata": {},
     "output_type": "execute_result"
    }
   ],
   "source": [
    "type(a)"
   ]
  },
  {
   "cell_type": "code",
   "execution_count": 9,
   "id": "9ca333e9-2dc6-4a6e-b03c-c7838551e7f8",
   "metadata": {},
   "outputs": [
    {
     "data": {
      "text/plain": [
       "int"
      ]
     },
     "execution_count": 9,
     "metadata": {},
     "output_type": "execute_result"
    }
   ],
   "source": [
    "type(Nitish)"
   ]
  },
  {
   "cell_type": "code",
   "execution_count": 10,
   "id": "b5a12818-3f38-4f1f-ac29-575fff91b2c5",
   "metadata": {},
   "outputs": [],
   "source": [
    "b = 2.09"
   ]
  },
  {
   "cell_type": "code",
   "execution_count": 11,
   "id": "deef5737-e862-495f-9d97-a1cd0a0bee56",
   "metadata": {},
   "outputs": [
    {
     "data": {
      "text/plain": [
       "float"
      ]
     },
     "execution_count": 11,
     "metadata": {},
     "output_type": "execute_result"
    }
   ],
   "source": [
    "type(b)"
   ]
  },
  {
   "cell_type": "code",
   "execution_count": 12,
   "id": "b458f828-232a-45c5-99cd-379ccddad1f8",
   "metadata": {},
   "outputs": [],
   "source": [
    "c = 46.123121"
   ]
  },
  {
   "cell_type": "code",
   "execution_count": 13,
   "id": "c1eb3cf0-73fe-49f3-ab44-99c83cfd99ab",
   "metadata": {},
   "outputs": [
    {
     "data": {
      "text/plain": [
       "float"
      ]
     },
     "execution_count": 13,
     "metadata": {},
     "output_type": "execute_result"
    }
   ],
   "source": [
    "type(c)"
   ]
  },
  {
   "cell_type": "code",
   "execution_count": 14,
   "id": "1adeec6c-5cc1-4b45-945a-37ece9df7871",
   "metadata": {},
   "outputs": [],
   "source": [
    "d = \"Chandra\""
   ]
  },
  {
   "cell_type": "code",
   "execution_count": 15,
   "id": "4df70afd-a1b8-4bde-a6c9-44ccc1d6feaf",
   "metadata": {},
   "outputs": [
    {
     "data": {
      "text/plain": [
       "str"
      ]
     },
     "execution_count": 15,
     "metadata": {},
     "output_type": "execute_result"
    }
   ],
   "source": [
    "type(d)"
   ]
  },
  {
   "cell_type": "code",
   "execution_count": 16,
   "id": "fb591b4f-9f9b-4e21-beed-cc515fe54116",
   "metadata": {},
   "outputs": [],
   "source": [
    "e = 'I am Data Science learn'"
   ]
  },
  {
   "cell_type": "code",
   "execution_count": 17,
   "id": "efe74332-fdf9-4450-9d83-fc8426be7f72",
   "metadata": {},
   "outputs": [
    {
     "data": {
      "text/plain": [
       "str"
      ]
     },
     "execution_count": 17,
     "metadata": {},
     "output_type": "execute_result"
    }
   ],
   "source": [
    "type(e)"
   ]
  },
  {
   "cell_type": "code",
   "execution_count": 18,
   "id": "a12fec0a-c890-4bcf-98b3-f6250ad28a1f",
   "metadata": {},
   "outputs": [],
   "source": [
    "n = True"
   ]
  },
  {
   "cell_type": "code",
   "execution_count": 19,
   "id": "f7c17463-a24e-4685-8c29-f94ec7121cdd",
   "metadata": {},
   "outputs": [
    {
     "data": {
      "text/plain": [
       "bool"
      ]
     },
     "execution_count": 19,
     "metadata": {},
     "output_type": "execute_result"
    }
   ],
   "source": [
    "type(n)"
   ]
  },
  {
   "cell_type": "code",
   "execution_count": 20,
   "id": "58cdc15a-afcd-41e2-a004-cd96ff1c0c2a",
   "metadata": {},
   "outputs": [],
   "source": [
    "m = False"
   ]
  },
  {
   "cell_type": "code",
   "execution_count": 21,
   "id": "5e072911-bf56-4c43-9bc0-d447c324c635",
   "metadata": {},
   "outputs": [
    {
     "data": {
      "text/plain": [
       "bool"
      ]
     },
     "execution_count": 21,
     "metadata": {},
     "output_type": "execute_result"
    }
   ],
   "source": [
    "type(m)"
   ]
  },
  {
   "cell_type": "code",
   "execution_count": 22,
   "id": "21e37052-6d4f-4541-a8dd-d9e86bf1e338",
   "metadata": {},
   "outputs": [
    {
     "data": {
      "text/plain": [
       "1"
      ]
     },
     "execution_count": 22,
     "metadata": {},
     "output_type": "execute_result"
    }
   ],
   "source": [
    "n + m"
   ]
  },
  {
   "cell_type": "code",
   "execution_count": 23,
   "id": "de3d916f-2133-4aac-b4d7-ee6bf3937de9",
   "metadata": {},
   "outputs": [
    {
     "data": {
      "text/plain": [
       "1"
      ]
     },
     "execution_count": 23,
     "metadata": {},
     "output_type": "execute_result"
    }
   ],
   "source": [
    "True * True"
   ]
  },
  {
   "cell_type": "code",
   "execution_count": 24,
   "id": "2bcf4135-1088-4fa4-b2ac-ef82fbeda015",
   "metadata": {},
   "outputs": [
    {
     "data": {
      "text/plain": [
       "0"
      ]
     },
     "execution_count": 24,
     "metadata": {},
     "output_type": "execute_result"
    }
   ],
   "source": [
    "True * False"
   ]
  },
  {
   "cell_type": "code",
   "execution_count": 25,
   "id": "150e51f5-d187-4cae-befc-f31d542f1ee5",
   "metadata": {},
   "outputs": [
    {
     "ename": "ZeroDivisionError",
     "evalue": "division by zero",
     "output_type": "error",
     "traceback": [
      "\u001b[0;31m---------------------------------------------------------------------------\u001b[0m",
      "\u001b[0;31mZeroDivisionError\u001b[0m                         Traceback (most recent call last)",
      "Cell \u001b[0;32mIn[25], line 1\u001b[0m\n\u001b[0;32m----> 1\u001b[0m \u001b[38;5;28;43;01mTrue\u001b[39;49;00m\u001b[43m \u001b[49m\u001b[38;5;241;43m/\u001b[39;49m\u001b[43m \u001b[49m\u001b[38;5;28;43;01mFalse\u001b[39;49;00m\n",
      "\u001b[0;31mZeroDivisionError\u001b[0m: division by zero"
     ]
    }
   ],
   "source": [
    "True / False"
   ]
  },
  {
   "cell_type": "code",
   "execution_count": 26,
   "id": "624b13ca-a16b-4ba2-a9b8-b07724488f67",
   "metadata": {},
   "outputs": [
    {
     "ename": "ZeroDivisionError",
     "evalue": "division by zero",
     "output_type": "error",
     "traceback": [
      "\u001b[0;31m---------------------------------------------------------------------------\u001b[0m",
      "\u001b[0;31mZeroDivisionError\u001b[0m                         Traceback (most recent call last)",
      "Cell \u001b[0;32mIn[26], line 1\u001b[0m\n\u001b[0;32m----> 1\u001b[0m \u001b[38;5;241;43m1\u001b[39;49m\u001b[43m \u001b[49m\u001b[38;5;241;43m/\u001b[39;49m\u001b[43m \u001b[49m\u001b[38;5;241;43m0\u001b[39;49m\n",
      "\u001b[0;31mZeroDivisionError\u001b[0m: division by zero"
     ]
    }
   ],
   "source": [
    "1 / 0"
   ]
  },
  {
   "cell_type": "code",
   "execution_count": 27,
   "id": "ac00d3f6-c71e-4d25-a96a-a30867ae480c",
   "metadata": {},
   "outputs": [],
   "source": [
    "Nitish = 46 + 9j"
   ]
  },
  {
   "cell_type": "code",
   "execution_count": 28,
   "id": "6ab354d8-2af5-461c-927a-c22b8724a2ef",
   "metadata": {},
   "outputs": [
    {
     "data": {
      "text/plain": [
       "complex"
      ]
     },
     "execution_count": 28,
     "metadata": {},
     "output_type": "execute_result"
    }
   ],
   "source": [
    "type(Nitish)"
   ]
  },
  {
   "cell_type": "code",
   "execution_count": 29,
   "id": "65685092-cb06-4f3b-b83c-14c6cdb091cd",
   "metadata": {},
   "outputs": [
    {
     "data": {
      "text/plain": [
       "46.0"
      ]
     },
     "execution_count": 29,
     "metadata": {},
     "output_type": "execute_result"
    }
   ],
   "source": [
    "Nitish.real"
   ]
  },
  {
   "cell_type": "code",
   "execution_count": 30,
   "id": "4006c1f4-060a-4652-81cb-a60e56722722",
   "metadata": {},
   "outputs": [
    {
     "data": {
      "text/plain": [
       "9.0"
      ]
     },
     "execution_count": 30,
     "metadata": {},
     "output_type": "execute_result"
    }
   ],
   "source": [
    "Nitish.imag"
   ]
  },
  {
   "cell_type": "code",
   "execution_count": 31,
   "id": "fe5b8b53-358d-4539-ba55-33e8cf976de1",
   "metadata": {},
   "outputs": [
    {
     "data": {
      "text/plain": [
       "(46+9j)"
      ]
     },
     "execution_count": 31,
     "metadata": {},
     "output_type": "execute_result"
    }
   ],
   "source": [
    "Nitish"
   ]
  },
  {
   "cell_type": "code",
   "execution_count": 32,
   "id": "2bd3c3d9-5830-452c-8295-1721c9119fff",
   "metadata": {},
   "outputs": [
    {
     "name": "stdout",
     "output_type": "stream",
     "text": [
      "My name is Nitish Chandra\n"
     ]
    }
   ],
   "source": [
    "print(\"My name is Nitish Chandra\")"
   ]
  },
  {
   "cell_type": "code",
   "execution_count": 33,
   "id": "655244b6-3929-4687-96fe-08e9bb9a3a57",
   "metadata": {},
   "outputs": [
    {
     "name": "stdout",
     "output_type": "stream",
     "text": [
      "10\n"
     ]
    }
   ],
   "source": [
    "print(a)"
   ]
  },
  {
   "cell_type": "code",
   "execution_count": 34,
   "id": "61853d67-5bea-4690-9384-7bc636c98a3a",
   "metadata": {},
   "outputs": [
    {
     "name": "stdout",
     "output_type": "stream",
     "text": [
      "(46+9j)\n"
     ]
    }
   ],
   "source": [
    "print(Nitish)"
   ]
  },
  {
   "cell_type": "code",
   "execution_count": 35,
   "id": "8e93ac01-bb1c-4ea2-9c14-f5495456a64a",
   "metadata": {},
   "outputs": [],
   "source": [
    "Smile = \"Dopamine\""
   ]
  },
  {
   "cell_type": "code",
   "execution_count": 36,
   "id": "68185d9a-bb9d-4952-a029-d82e615be08b",
   "metadata": {},
   "outputs": [
    {
     "data": {
      "text/plain": [
       "str"
      ]
     },
     "execution_count": 36,
     "metadata": {},
     "output_type": "execute_result"
    }
   ],
   "source": [
    "type(Smile)"
   ]
  },
  {
   "cell_type": "code",
   "execution_count": 37,
   "id": "215d9390-81ea-42f8-9763-45968c9a2034",
   "metadata": {},
   "outputs": [
    {
     "data": {
      "text/plain": [
       "'D'"
      ]
     },
     "execution_count": 37,
     "metadata": {},
     "output_type": "execute_result"
    }
   ],
   "source": [
    "Smile[0]"
   ]
  },
  {
   "cell_type": "code",
   "execution_count": 38,
   "id": "a18b9d86-044d-4687-abfd-547f739fce81",
   "metadata": {},
   "outputs": [
    {
     "data": {
      "text/plain": [
       "'o'"
      ]
     },
     "execution_count": 38,
     "metadata": {},
     "output_type": "execute_result"
    }
   ],
   "source": [
    "Smile[1]"
   ]
  },
  {
   "cell_type": "code",
   "execution_count": 39,
   "id": "26d237fe-c8e2-43e8-b552-0dcdcf1637a0",
   "metadata": {},
   "outputs": [
    {
     "data": {
      "text/plain": [
       "'a'"
      ]
     },
     "execution_count": 39,
     "metadata": {},
     "output_type": "execute_result"
    }
   ],
   "source": [
    "Smile[3]"
   ]
  },
  {
   "cell_type": "code",
   "execution_count": 40,
   "id": "d9b48166-6ba2-4727-8edd-0c13b31986f9",
   "metadata": {},
   "outputs": [
    {
     "data": {
      "text/plain": [
       "'e'"
      ]
     },
     "execution_count": 40,
     "metadata": {},
     "output_type": "execute_result"
    }
   ],
   "source": [
    "Smile[-1]"
   ]
  },
  {
   "cell_type": "code",
   "execution_count": 41,
   "id": "05e0fd79-ce31-4aa4-8a30-63ec2fd42c0b",
   "metadata": {},
   "outputs": [
    {
     "data": {
      "text/plain": [
       "'p'"
      ]
     },
     "execution_count": 41,
     "metadata": {},
     "output_type": "execute_result"
    }
   ],
   "source": [
    "Smile[-6]"
   ]
  },
  {
   "cell_type": "code",
   "execution_count": 42,
   "id": "044a7846-5e71-4776-8fde-97a7b0dbef7b",
   "metadata": {},
   "outputs": [
    {
     "data": {
      "text/plain": [
       "'D'"
      ]
     },
     "execution_count": 42,
     "metadata": {},
     "output_type": "execute_result"
    }
   ],
   "source": [
    "Smile[-8]"
   ]
  },
  {
   "cell_type": "code",
   "execution_count": 43,
   "id": "67d849e6-2777-4b22-9410-3b4370e41caf",
   "metadata": {},
   "outputs": [
    {
     "data": {
      "text/plain": [
       "'Dopa'"
      ]
     },
     "execution_count": 43,
     "metadata": {},
     "output_type": "execute_result"
    }
   ],
   "source": [
    "Smile[0:4]"
   ]
  },
  {
   "cell_type": "code",
   "execution_count": 44,
   "id": "544e8919-deff-48a0-b5ff-a2240b544c37",
   "metadata": {},
   "outputs": [
    {
     "data": {
      "text/plain": [
       "'Dopamine'"
      ]
     },
     "execution_count": 44,
     "metadata": {},
     "output_type": "execute_result"
    }
   ],
   "source": [
    "Smile[0:8]"
   ]
  },
  {
   "cell_type": "code",
   "execution_count": 45,
   "id": "406ba0e8-04d1-48b1-b09f-cd529fa6f2f7",
   "metadata": {},
   "outputs": [
    {
     "data": {
      "text/plain": [
       "'Dpmn'"
      ]
     },
     "execution_count": 45,
     "metadata": {},
     "output_type": "execute_result"
    }
   ],
   "source": [
    "Smile[0:8:2]"
   ]
  },
  {
   "cell_type": "code",
   "execution_count": 46,
   "id": "8dd8d1b9-f992-4aff-9412-3ed881f9ae46",
   "metadata": {},
   "outputs": [
    {
     "data": {
      "text/plain": [
       "'Dopa'"
      ]
     },
     "execution_count": 46,
     "metadata": {},
     "output_type": "execute_result"
    }
   ],
   "source": [
    "Smile[0:4:1]"
   ]
  },
  {
   "cell_type": "code",
   "execution_count": 47,
   "id": "dd7b3d30-63ee-41fa-959a-d1766a2fa231",
   "metadata": {},
   "outputs": [
    {
     "data": {
      "text/plain": [
       "'Dpmn'"
      ]
     },
     "execution_count": 47,
     "metadata": {},
     "output_type": "execute_result"
    }
   ],
   "source": [
    "Smile[::2]"
   ]
  },
  {
   "cell_type": "code",
   "execution_count": 48,
   "id": "dd6347fe-3331-419e-99c7-d6583664557c",
   "metadata": {},
   "outputs": [
    {
     "data": {
      "text/plain": [
       "'pmn'"
      ]
     },
     "execution_count": 48,
     "metadata": {},
     "output_type": "execute_result"
    }
   ],
   "source": [
    "Smile[2::2]"
   ]
  },
  {
   "cell_type": "code",
   "execution_count": 49,
   "id": "aaac4941-9621-440f-a292-8a85ef433ad9",
   "metadata": {},
   "outputs": [
    {
     "ename": "ValueError",
     "evalue": "slice step cannot be zero",
     "output_type": "error",
     "traceback": [
      "\u001b[0;31m---------------------------------------------------------------------------\u001b[0m",
      "\u001b[0;31mValueError\u001b[0m                                Traceback (most recent call last)",
      "Cell \u001b[0;32mIn[49], line 1\u001b[0m\n\u001b[0;32m----> 1\u001b[0m \u001b[43mSmile\u001b[49m\u001b[43m[\u001b[49m\u001b[38;5;241;43m2\u001b[39;49m\u001b[43m:\u001b[49m\u001b[43m:\u001b[49m\u001b[38;5;241;43m0\u001b[39;49m\u001b[43m]\u001b[49m\n",
      "\u001b[0;31mValueError\u001b[0m: slice step cannot be zero"
     ]
    }
   ],
   "source": [
    "Smile[2::0]"
   ]
  },
  {
   "cell_type": "code",
   "execution_count": 50,
   "id": "99476a83-ee85-4066-b6fa-9e0139af1e15",
   "metadata": {},
   "outputs": [
    {
     "data": {
      "text/plain": [
       "'pamine'"
      ]
     },
     "execution_count": 50,
     "metadata": {},
     "output_type": "execute_result"
    }
   ],
   "source": [
    "Smile[2::1]"
   ]
  },
  {
   "cell_type": "code",
   "execution_count": 51,
   "id": "7727541b-3688-4c57-9064-bc826a3e5ab4",
   "metadata": {},
   "outputs": [
    {
     "data": {
      "text/plain": [
       "'enimapoD'"
      ]
     },
     "execution_count": 51,
     "metadata": {},
     "output_type": "execute_result"
    }
   ],
   "source": [
    "Smile[::-1]"
   ]
  },
  {
   "cell_type": "code",
   "execution_count": 52,
   "id": "6b3df07f-8d03-4a87-9b23-0e77dbb311b2",
   "metadata": {},
   "outputs": [
    {
     "data": {
      "text/plain": [
       "''"
      ]
     },
     "execution_count": 52,
     "metadata": {},
     "output_type": "execute_result"
    }
   ],
   "source": [
    "Smile[2:7:-1]"
   ]
  },
  {
   "cell_type": "code",
   "execution_count": 53,
   "id": "e41cf027-2aa4-4d74-aa83-22d88c7178a5",
   "metadata": {},
   "outputs": [
    {
     "data": {
      "text/plain": [
       "''"
      ]
     },
     "execution_count": 53,
     "metadata": {},
     "output_type": "execute_result"
    }
   ],
   "source": [
    "Smile[8:0]"
   ]
  },
  {
   "cell_type": "code",
   "execution_count": 54,
   "id": "bc2749fd-e43d-4481-b3b1-3d0b1f7df0c8",
   "metadata": {},
   "outputs": [
    {
     "data": {
      "text/plain": [
       "'enimapo'"
      ]
     },
     "execution_count": 54,
     "metadata": {},
     "output_type": "execute_result"
    }
   ],
   "source": [
    "Smile[8:0:-1]"
   ]
  },
  {
   "cell_type": "code",
   "execution_count": 55,
   "id": "1c61f2fd-b246-4eaf-88c5-eb5865efd857",
   "metadata": {},
   "outputs": [
    {
     "data": {
      "text/plain": [
       "'nimapo'"
      ]
     },
     "execution_count": 55,
     "metadata": {},
     "output_type": "execute_result"
    }
   ],
   "source": [
    "Smile[-2:-8:-1]"
   ]
  },
  {
   "cell_type": "code",
   "execution_count": 56,
   "id": "302c64bc-0e52-43bf-8bb6-421961a50aa2",
   "metadata": {},
   "outputs": [
    {
     "data": {
      "text/plain": [
       "'nimapoD'"
      ]
     },
     "execution_count": 56,
     "metadata": {},
     "output_type": "execute_result"
    }
   ],
   "source": [
    "Smile[-2::-1]"
   ]
  },
  {
   "cell_type": "code",
   "execution_count": 57,
   "id": "01adeb35-7af7-4148-87aa-ed073590eb2b",
   "metadata": {},
   "outputs": [
    {
     "data": {
      "text/plain": [
       "'enimapoD'"
      ]
     },
     "execution_count": 57,
     "metadata": {},
     "output_type": "execute_result"
    }
   ],
   "source": [
    "Smile[8::-1]"
   ]
  },
  {
   "cell_type": "code",
   "execution_count": 58,
   "id": "2c2aaefe-47bf-44c1-a066-5e48eee63a40",
   "metadata": {},
   "outputs": [
    {
     "data": {
      "text/plain": [
       "'enimapoD'"
      ]
     },
     "execution_count": 58,
     "metadata": {},
     "output_type": "execute_result"
    }
   ],
   "source": [
    "Smile[::-1]"
   ]
  },
  {
   "cell_type": "code",
   "execution_count": 60,
   "id": "e630a29d-4022-45aa-a740-098a1dda630d",
   "metadata": {},
   "outputs": [
    {
     "data": {
      "text/plain": [
       "'enimapo'"
      ]
     },
     "execution_count": 60,
     "metadata": {},
     "output_type": "execute_result"
    }
   ],
   "source": [
    "Smile[:-8:-1]"
   ]
  },
  {
   "cell_type": "code",
   "execution_count": 61,
   "id": "3d43340e-a2d8-4c12-b416-f923d23586ce",
   "metadata": {},
   "outputs": [
    {
     "data": {
      "text/plain": [
       "'Dopamine'"
      ]
     },
     "execution_count": 61,
     "metadata": {},
     "output_type": "execute_result"
    }
   ],
   "source": [
    "Smile[::1]"
   ]
  },
  {
   "cell_type": "code",
   "execution_count": 62,
   "id": "58727169-17ee-4ce7-820f-af01b5b5a9a6",
   "metadata": {},
   "outputs": [
    {
     "data": {
      "text/plain": [
       "'Dopamine'"
      ]
     },
     "execution_count": 62,
     "metadata": {},
     "output_type": "execute_result"
    }
   ],
   "source": [
    "Smile[::]"
   ]
  },
  {
   "cell_type": "code",
   "execution_count": 63,
   "id": "01986595-1b2b-496e-b0c4-3381e25b049e",
   "metadata": {},
   "outputs": [
    {
     "data": {
      "text/plain": [
       "''"
      ]
     },
     "execution_count": 63,
     "metadata": {},
     "output_type": "execute_result"
    }
   ],
   "source": [
    "Smile[:-90:]"
   ]
  },
  {
   "cell_type": "code",
   "execution_count": 64,
   "id": "932da9fb-50e3-459d-97f6-325aef801f53",
   "metadata": {},
   "outputs": [
    {
     "ename": "IndexError",
     "evalue": "string index out of range",
     "output_type": "error",
     "traceback": [
      "\u001b[0;31m---------------------------------------------------------------------------\u001b[0m",
      "\u001b[0;31mIndexError\u001b[0m                                Traceback (most recent call last)",
      "Cell \u001b[0;32mIn[64], line 1\u001b[0m\n\u001b[0;32m----> 1\u001b[0m \u001b[43mSmile\u001b[49m\u001b[43m[\u001b[49m\u001b[38;5;241;43m90\u001b[39;49m\u001b[43m]\u001b[49m\n",
      "\u001b[0;31mIndexError\u001b[0m: string index out of range"
     ]
    }
   ],
   "source": [
    "Smile[90]"
   ]
  },
  {
   "cell_type": "code",
   "execution_count": 65,
   "id": "1366b7d9-a113-475a-86a8-59e7312afe66",
   "metadata": {},
   "outputs": [
    {
     "data": {
      "text/plain": [
       "'enimapoD'"
      ]
     },
     "execution_count": 65,
     "metadata": {},
     "output_type": "execute_result"
    }
   ],
   "source": [
    "Smile[:-90:-1]"
   ]
  },
  {
   "cell_type": "code",
   "execution_count": 66,
   "id": "f286c5de-54a1-46d6-be5e-bc62b7ce97ed",
   "metadata": {},
   "outputs": [
    {
     "data": {
      "text/plain": [
       "'enimapoD'"
      ]
     },
     "execution_count": 66,
     "metadata": {},
     "output_type": "execute_result"
    }
   ],
   "source": [
    "Smile[:-90000:-1]"
   ]
  },
  {
   "cell_type": "code",
   "execution_count": 67,
   "id": "4c860084-4033-4ab6-8355-49e77dac850f",
   "metadata": {},
   "outputs": [],
   "source": [
    "s1 = \"this is my string class\""
   ]
  },
  {
   "cell_type": "code",
   "execution_count": 68,
   "id": "90ea0511-a58f-4786-a0d6-4802e7452ba9",
   "metadata": {},
   "outputs": [
    {
     "data": {
      "text/plain": [
       "23"
      ]
     },
     "execution_count": 68,
     "metadata": {},
     "output_type": "execute_result"
    }
   ],
   "source": [
    "len(s1)"
   ]
  },
  {
   "cell_type": "code",
   "execution_count": 69,
   "id": "5bd81cb0-b00b-4411-94ff-a4d9ec0278c3",
   "metadata": {},
   "outputs": [
    {
     "data": {
      "text/plain": [
       "3"
      ]
     },
     "execution_count": 69,
     "metadata": {},
     "output_type": "execute_result"
    }
   ],
   "source": [
    "s1.find('s')"
   ]
  },
  {
   "cell_type": "code",
   "execution_count": 70,
   "id": "5abbdbde-1ac8-4fb3-8f6e-9a5469a23106",
   "metadata": {},
   "outputs": [
    {
     "data": {
      "text/plain": [
       "2"
      ]
     },
     "execution_count": 70,
     "metadata": {},
     "output_type": "execute_result"
    }
   ],
   "source": [
    "s1.find('i')"
   ]
  },
  {
   "cell_type": "code",
   "execution_count": 71,
   "id": "e140fffa-3f36-4591-8a1d-ebb84df9b326",
   "metadata": {},
   "outputs": [
    {
     "data": {
      "text/plain": [
       "2"
      ]
     },
     "execution_count": 71,
     "metadata": {},
     "output_type": "execute_result"
    }
   ],
   "source": [
    "s1.find('is')"
   ]
  },
  {
   "cell_type": "code",
   "execution_count": 72,
   "id": "e443ebc0-b55d-4d23-900e-12ed9a47cba8",
   "metadata": {},
   "outputs": [
    {
     "data": {
      "text/plain": [
       "-1"
      ]
     },
     "execution_count": 72,
     "metadata": {},
     "output_type": "execute_result"
    }
   ],
   "source": [
    "s1.find(\"iS\")"
   ]
  },
  {
   "cell_type": "code",
   "execution_count": 73,
   "id": "744a6feb-74b3-40e9-abf6-5e75f876a7b7",
   "metadata": {},
   "outputs": [
    {
     "data": {
      "text/plain": [
       "5"
      ]
     },
     "execution_count": 73,
     "metadata": {},
     "output_type": "execute_result"
    }
   ],
   "source": [
    "s1.count(\"s\")"
   ]
  },
  {
   "cell_type": "code",
   "execution_count": 74,
   "id": "15807b8b-3b5e-495e-99f8-f107b70a9f4f",
   "metadata": {},
   "outputs": [
    {
     "data": {
      "text/plain": [
       "'this is my string class'"
      ]
     },
     "execution_count": 74,
     "metadata": {},
     "output_type": "execute_result"
    }
   ],
   "source": [
    "s1"
   ]
  },
  {
   "cell_type": "code",
   "execution_count": 75,
   "id": "098184c7-c91d-49e2-8d4e-dd9aba8683b6",
   "metadata": {},
   "outputs": [
    {
     "data": {
      "text/plain": [
       "1"
      ]
     },
     "execution_count": 75,
     "metadata": {},
     "output_type": "execute_result"
    }
   ],
   "source": [
    "s1.count(\"st\")"
   ]
  },
  {
   "cell_type": "code",
   "execution_count": 76,
   "id": "49ed8258-15e1-48ad-be05-58a963b45790",
   "metadata": {},
   "outputs": [
    {
     "data": {
      "text/plain": [
       "0"
      ]
     },
     "execution_count": 76,
     "metadata": {},
     "output_type": "execute_result"
    }
   ],
   "source": [
    "s1.count(\"z\")"
   ]
  },
  {
   "cell_type": "code",
   "execution_count": 77,
   "id": "3636251b-48b2-4298-bba8-7f66f1db287c",
   "metadata": {},
   "outputs": [
    {
     "data": {
      "text/plain": [
       "'this is my string class'"
      ]
     },
     "execution_count": 77,
     "metadata": {},
     "output_type": "execute_result"
    }
   ],
   "source": [
    "s1"
   ]
  },
  {
   "cell_type": "code",
   "execution_count": 78,
   "id": "4c1ea1e7-1e5c-42d1-896b-533cc61a8c09",
   "metadata": {},
   "outputs": [
    {
     "data": {
      "text/plain": [
       "'THIS IS MY STRING CLASS'"
      ]
     },
     "execution_count": 78,
     "metadata": {},
     "output_type": "execute_result"
    }
   ],
   "source": [
    "s1.upper()"
   ]
  },
  {
   "cell_type": "code",
   "execution_count": 79,
   "id": "008a4405-176b-4982-954d-12d5336b8806",
   "metadata": {},
   "outputs": [],
   "source": [
    "s2 = 'THIS IS MY STRING CLASS'"
   ]
  },
  {
   "cell_type": "code",
   "execution_count": 80,
   "id": "47545621-8c69-453a-8df2-d6a39626cd41",
   "metadata": {},
   "outputs": [
    {
     "data": {
      "text/plain": [
       "'THIS IS MY STRING CLASS'"
      ]
     },
     "execution_count": 80,
     "metadata": {},
     "output_type": "execute_result"
    }
   ],
   "source": [
    "s2"
   ]
  },
  {
   "cell_type": "code",
   "execution_count": 81,
   "id": "ecf5706c-541b-400d-904d-3cd13a7555c1",
   "metadata": {},
   "outputs": [
    {
     "data": {
      "text/plain": [
       "'this is my string class'"
      ]
     },
     "execution_count": 81,
     "metadata": {},
     "output_type": "execute_result"
    }
   ],
   "source": [
    "s2.lower()"
   ]
  },
  {
   "cell_type": "code",
   "execution_count": 82,
   "id": "80b27fd7-4a6e-4025-98c2-2de742084ef3",
   "metadata": {},
   "outputs": [
    {
     "data": {
      "text/plain": [
       "'this is my string class'"
      ]
     },
     "execution_count": 82,
     "metadata": {},
     "output_type": "execute_result"
    }
   ],
   "source": [
    "s1"
   ]
  },
  {
   "cell_type": "code",
   "execution_count": 83,
   "id": "2b0a81a3-2db8-456c-ad8c-460645cfdb26",
   "metadata": {},
   "outputs": [
    {
     "data": {
      "text/plain": [
       "'This Is My String Class'"
      ]
     },
     "execution_count": 83,
     "metadata": {},
     "output_type": "execute_result"
    }
   ],
   "source": [
    "s1.title()"
   ]
  },
  {
   "cell_type": "code",
   "execution_count": 84,
   "id": "c1fb81a5-90e2-43e5-85cc-009a07a94dfe",
   "metadata": {},
   "outputs": [
    {
     "data": {
      "text/plain": [
       "'This is my string class'"
      ]
     },
     "execution_count": 84,
     "metadata": {},
     "output_type": "execute_result"
    }
   ],
   "source": [
    "s1.capitalize()"
   ]
  },
  {
   "cell_type": "code",
   "execution_count": 85,
   "id": "75639e76-7df8-4d49-9f88-caedf59bfb50",
   "metadata": {},
   "outputs": [
    {
     "data": {
      "text/plain": [
       "'Dopamine'"
      ]
     },
     "execution_count": 85,
     "metadata": {},
     "output_type": "execute_result"
    }
   ],
   "source": [
    "Smile"
   ]
  },
  {
   "cell_type": "code",
   "execution_count": 86,
   "id": "734daad3-1e08-4b4f-b33d-62ebb1b519f5",
   "metadata": {},
   "outputs": [
    {
     "ename": "TypeError",
     "evalue": "can only concatenate str (not \"int\") to str",
     "output_type": "error",
     "traceback": [
      "\u001b[0;31m---------------------------------------------------------------------------\u001b[0m",
      "\u001b[0;31mTypeError\u001b[0m                                 Traceback (most recent call last)",
      "Cell \u001b[0;32mIn[86], line 1\u001b[0m\n\u001b[0;32m----> 1\u001b[0m \u001b[43mSmile\u001b[49m\u001b[43m \u001b[49m\u001b[38;5;241;43m+\u001b[39;49m\u001b[43m \u001b[49m\u001b[38;5;241;43m1\u001b[39;49m\n",
      "\u001b[0;31mTypeError\u001b[0m: can only concatenate str (not \"int\") to str"
     ]
    }
   ],
   "source": [
    "Smile + 1"
   ]
  },
  {
   "cell_type": "code",
   "execution_count": 88,
   "id": "07a888d3-b1cc-465a-816b-e99f329c719e",
   "metadata": {},
   "outputs": [
    {
     "data": {
      "text/plain": [
       "'Dopamine Dedication'"
      ]
     },
     "execution_count": 88,
     "metadata": {},
     "output_type": "execute_result"
    }
   ],
   "source": [
    "Smile + \" Dedication\""
   ]
  },
  {
   "cell_type": "code",
   "execution_count": 89,
   "id": "26e2fb53-d808-45cd-8fad-ee6b51679cb2",
   "metadata": {},
   "outputs": [
    {
     "data": {
      "text/plain": [
       "'Dopamine1'"
      ]
     },
     "execution_count": 89,
     "metadata": {},
     "output_type": "execute_result"
    }
   ],
   "source": [
    "Smile + \"1\""
   ]
  },
  {
   "cell_type": "code",
   "execution_count": 90,
   "id": "b6935cf8-e476-4f20-a9b8-ab842f657423",
   "metadata": {},
   "outputs": [
    {
     "data": {
      "text/plain": [
       "'Dopamine1'"
      ]
     },
     "execution_count": 90,
     "metadata": {},
     "output_type": "execute_result"
    }
   ],
   "source": [
    "Smile + str(1)"
   ]
  },
  {
   "cell_type": "code",
   "execution_count": 91,
   "id": "e0b9ca10-4976-44ef-921a-3aea5c69871b",
   "metadata": {},
   "outputs": [
    {
     "data": {
      "text/plain": [
       "'DopamineDopamineDopamine'"
      ]
     },
     "execution_count": 91,
     "metadata": {},
     "output_type": "execute_result"
    }
   ],
   "source": [
    "Smile * 3"
   ]
  },
  {
   "cell_type": "code",
   "execution_count": 92,
   "id": "8241c497-a30f-42cc-995c-5df89e43c675",
   "metadata": {},
   "outputs": [
    {
     "data": {
      "text/plain": [
       "'khushikhushikhushikhushi'"
      ]
     },
     "execution_count": 92,
     "metadata": {},
     "output_type": "execute_result"
    }
   ],
   "source": [
    "\"khushi\" * 4"
   ]
  },
  {
   "cell_type": "code",
   "execution_count": 93,
   "id": "15733ebe-36f8-4807-95d8-09f6767a7612",
   "metadata": {},
   "outputs": [
    {
     "ename": "TypeError",
     "evalue": "unsupported operand type(s) for /: 'str' and 'int'",
     "output_type": "error",
     "traceback": [
      "\u001b[0;31m---------------------------------------------------------------------------\u001b[0m",
      "\u001b[0;31mTypeError\u001b[0m                                 Traceback (most recent call last)",
      "Cell \u001b[0;32mIn[93], line 1\u001b[0m\n\u001b[0;32m----> 1\u001b[0m \u001b[38;5;124;43m\"\u001b[39;49m\u001b[38;5;124;43mkhushi\u001b[39;49m\u001b[38;5;124;43m\"\u001b[39;49m\u001b[43m \u001b[49m\u001b[38;5;241;43m/\u001b[39;49m\u001b[43m \u001b[49m\u001b[38;5;241;43m4\u001b[39;49m\n",
      "\u001b[0;31mTypeError\u001b[0m: unsupported operand type(s) for /: 'str' and 'int'"
     ]
    }
   ],
   "source": [
    "\"khushi\" / 4"
   ]
  },
  {
   "cell_type": "code",
   "execution_count": 94,
   "id": "3a9a2c8a-4c8e-4c3c-8314-bcf90bcadb85",
   "metadata": {},
   "outputs": [
    {
     "ename": "SyntaxError",
     "evalue": "unterminated string literal (detected at line 1) (1742670790.py, line 1)",
     "output_type": "error",
     "traceback": [
      "\u001b[0;36m  Cell \u001b[0;32mIn[94], line 1\u001b[0;36m\u001b[0m\n\u001b[0;31m    'don't do copy and paste any Social Media Platform'\u001b[0m\n\u001b[0m                                                      ^\u001b[0m\n\u001b[0;31mSyntaxError\u001b[0m\u001b[0;31m:\u001b[0m unterminated string literal (detected at line 1)\n"
     ]
    }
   ],
   "source": [
    "'don't do copy and paste any Social Media Platform'"
   ]
  },
  {
   "cell_type": "code",
   "execution_count": 95,
   "id": "36d337a3-7163-4f00-b571-1d300fd93002",
   "metadata": {},
   "outputs": [
    {
     "data": {
      "text/plain": [
       "\"Don't do copy and paste any Social Media Platform\""
      ]
     },
     "execution_count": 95,
     "metadata": {},
     "output_type": "execute_result"
    }
   ],
   "source": [
    "\"Don't do copy and paste any Social Media Platform\""
   ]
  },
  {
   "cell_type": "code",
   "execution_count": 96,
   "id": "d2cdea5a-8df0-4fca-9df1-5c9184348fef",
   "metadata": {},
   "outputs": [
    {
     "data": {
      "text/plain": [
       "'Don\"t do copy and paste any Social Media Platform'"
      ]
     },
     "execution_count": 96,
     "metadata": {},
     "output_type": "execute_result"
    }
   ],
   "source": [
    "'Don\"t do copy and paste any Social Media Platform'"
   ]
  },
  {
   "cell_type": "code",
   "execution_count": 97,
   "id": "a8306164-90b3-417a-b417-2553fba60a61",
   "metadata": {},
   "outputs": [
    {
     "data": {
      "text/plain": [
       "'variable declaration, data type, string, int, boolean, complex number\\nexample of string slicing and indexing\\nstring inbuilt function '"
      ]
     },
     "execution_count": 97,
     "metadata": {},
     "output_type": "execute_result"
    }
   ],
   "source": [
    "\"\"\"variable declaration, data type, string, int, boolean, complex number\n",
    "example of string slicing and indexing\n",
    "string inbuilt function \"\"\"\n"
   ]
  },
  {
   "cell_type": "code",
   "execution_count": null,
   "id": "f4230cea-2619-4343-b9e7-b3d141147f10",
   "metadata": {},
   "outputs": [],
   "source": []
  }
 ],
 "metadata": {
  "kernelspec": {
   "display_name": "Python 3 (ipykernel)",
   "language": "python",
   "name": "python3"
  },
  "language_info": {
   "codemirror_mode": {
    "name": "ipython",
    "version": 3
   },
   "file_extension": ".py",
   "mimetype": "text/x-python",
   "name": "python",
   "nbconvert_exporter": "python",
   "pygments_lexer": "ipython3",
   "version": "3.10.8"
  }
 },
 "nbformat": 4,
 "nbformat_minor": 5
}
