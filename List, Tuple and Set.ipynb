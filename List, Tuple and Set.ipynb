{
 "cells": [
  {
   "cell_type": "code",
   "execution_count": 1,
   "id": "7539c6d9-f9da-4f48-8c0b-8514f9bb37aa",
   "metadata": {},
   "outputs": [],
   "source": [
    "l = [1, 345, 46, \"Nitish\", True, 9+46j, 24.654]"
   ]
  },
  {
   "cell_type": "code",
   "execution_count": 2,
   "id": "b5fd7189-a174-4b13-9e72-eb4228ee5a3c",
   "metadata": {},
   "outputs": [
    {
     "data": {
      "text/plain": [
       "list"
      ]
     },
     "execution_count": 2,
     "metadata": {},
     "output_type": "execute_result"
    }
   ],
   "source": [
    "type(l)"
   ]
  },
  {
   "cell_type": "code",
   "execution_count": 3,
   "id": "3427e8ab-7687-4525-8c9d-688d772dceb0",
   "metadata": {},
   "outputs": [
    {
     "data": {
      "text/plain": [
       "1"
      ]
     },
     "execution_count": 3,
     "metadata": {},
     "output_type": "execute_result"
    }
   ],
   "source": [
    "l[0]"
   ]
  },
  {
   "cell_type": "code",
   "execution_count": 4,
   "id": "3d5100c7-2333-4b78-b910-fd528596cdce",
   "metadata": {},
   "outputs": [
    {
     "data": {
      "text/plain": [
       "'Nitish'"
      ]
     },
     "execution_count": 4,
     "metadata": {},
     "output_type": "execute_result"
    }
   ],
   "source": [
    "l[3]"
   ]
  },
  {
   "cell_type": "code",
   "execution_count": 5,
   "id": "6776f468-39fd-4864-87ec-5a61df845a70",
   "metadata": {},
   "outputs": [
    {
     "data": {
      "text/plain": [
       "24.654"
      ]
     },
     "execution_count": 5,
     "metadata": {},
     "output_type": "execute_result"
    }
   ],
   "source": [
    "l[6]"
   ]
  },
  {
   "cell_type": "code",
   "execution_count": 6,
   "id": "2bcd0a88-0e6e-4abe-9cce-ede461f7ec70",
   "metadata": {},
   "outputs": [
    {
     "data": {
      "text/plain": [
       "True"
      ]
     },
     "execution_count": 6,
     "metadata": {},
     "output_type": "execute_result"
    }
   ],
   "source": [
    "l[4]"
   ]
  },
  {
   "cell_type": "code",
   "execution_count": 7,
   "id": "97974dd1-7f08-444a-8894-4872c45d821c",
   "metadata": {},
   "outputs": [
    {
     "ename": "IndexError",
     "evalue": "list index out of range",
     "output_type": "error",
     "traceback": [
      "\u001b[0;31m---------------------------------------------------------------------------\u001b[0m",
      "\u001b[0;31mIndexError\u001b[0m                                Traceback (most recent call last)",
      "Cell \u001b[0;32mIn[7], line 1\u001b[0m\n\u001b[0;32m----> 1\u001b[0m \u001b[43ml\u001b[49m\u001b[43m[\u001b[49m\u001b[38;5;241;43m90\u001b[39;49m\u001b[43m]\u001b[49m\n",
      "\u001b[0;31mIndexError\u001b[0m: list index out of range"
     ]
    }
   ],
   "source": [
    "l[90]"
   ]
  },
  {
   "cell_type": "code",
   "execution_count": 8,
   "id": "7ea9128f-5453-4504-8536-0d60d649f269",
   "metadata": {},
   "outputs": [
    {
     "data": {
      "text/plain": [
       "[1, 345, 46, 'Nitish', True, (9+46j), 24.654]"
      ]
     },
     "execution_count": 8,
     "metadata": {},
     "output_type": "execute_result"
    }
   ],
   "source": [
    "l"
   ]
  },
  {
   "cell_type": "code",
   "execution_count": 9,
   "id": "d51152f8-c266-46db-8e97-7116eaa8acc7",
   "metadata": {},
   "outputs": [
    {
     "data": {
      "text/plain": [
       "[1, 345, 46]"
      ]
     },
     "execution_count": 9,
     "metadata": {},
     "output_type": "execute_result"
    }
   ],
   "source": [
    "l[0:3]"
   ]
  },
  {
   "cell_type": "code",
   "execution_count": 10,
   "id": "97d9fb1d-f524-4291-9dfe-d89e2c081cbb",
   "metadata": {},
   "outputs": [
    {
     "data": {
      "text/plain": [
       "24.654"
      ]
     },
     "execution_count": 10,
     "metadata": {},
     "output_type": "execute_result"
    }
   ],
   "source": [
    "l[-1]"
   ]
  },
  {
   "cell_type": "code",
   "execution_count": 11,
   "id": "8aaf7b84-1749-42fc-b86e-bc7798b05b55",
   "metadata": {},
   "outputs": [
    {
     "data": {
      "text/plain": [
       "[24.654, (9+46j), True, 'Nitish', 46, 345, 1]"
      ]
     },
     "execution_count": 11,
     "metadata": {},
     "output_type": "execute_result"
    }
   ],
   "source": [
    "l[::-1]"
   ]
  },
  {
   "cell_type": "code",
   "execution_count": 12,
   "id": "dad5a243-bfd9-4881-85a5-df2b39e14435",
   "metadata": {},
   "outputs": [
    {
     "data": {
      "text/plain": [
       "[1, 46, True, 24.654]"
      ]
     },
     "execution_count": 12,
     "metadata": {},
     "output_type": "execute_result"
    }
   ],
   "source": [
    "l[::2]"
   ]
  },
  {
   "cell_type": "code",
   "execution_count": 13,
   "id": "e57ec6c2-5a3d-430a-80dd-bc4032eab8c8",
   "metadata": {},
   "outputs": [
    {
     "data": {
      "text/plain": [
       "[1, 345, 46, 'Nitish', True, (9+46j), 24.654]"
      ]
     },
     "execution_count": 13,
     "metadata": {},
     "output_type": "execute_result"
    }
   ],
   "source": [
    "l"
   ]
  },
  {
   "cell_type": "code",
   "execution_count": 14,
   "id": "8c228f49-42af-43ac-8866-6ec263cdb992",
   "metadata": {},
   "outputs": [],
   "source": [
    "n = \"college\""
   ]
  },
  {
   "cell_type": "code",
   "execution_count": 15,
   "id": "fbcce309-eca8-405b-9076-4aca293eaa27",
   "metadata": {},
   "outputs": [
    {
     "data": {
      "text/plain": [
       "'college'"
      ]
     },
     "execution_count": 15,
     "metadata": {},
     "output_type": "execute_result"
    }
   ],
   "source": [
    "n"
   ]
  },
  {
   "cell_type": "code",
   "execution_count": 16,
   "id": "1db6195c-7cd5-4a5a-bbbb-3adf3e59cc03",
   "metadata": {},
   "outputs": [
    {
     "ename": "TypeError",
     "evalue": "can only concatenate list (not \"str\") to list",
     "output_type": "error",
     "traceback": [
      "\u001b[0;31m---------------------------------------------------------------------------\u001b[0m",
      "\u001b[0;31mTypeError\u001b[0m                                 Traceback (most recent call last)",
      "Cell \u001b[0;32mIn[16], line 1\u001b[0m\n\u001b[0;32m----> 1\u001b[0m \u001b[43ml\u001b[49m\u001b[43m \u001b[49m\u001b[38;5;241;43m+\u001b[39;49m\u001b[43m \u001b[49m\u001b[43mn\u001b[49m\n",
      "\u001b[0;31mTypeError\u001b[0m: can only concatenate list (not \"str\") to list"
     ]
    }
   ],
   "source": [
    "l + n"
   ]
  },
  {
   "cell_type": "code",
   "execution_count": 17,
   "id": "08b27eb1-751a-4ae9-82db-dde8ad23d088",
   "metadata": {},
   "outputs": [
    {
     "data": {
      "text/plain": [
       "['c', 'o', 'l', 'l', 'e', 'g', 'e']"
      ]
     },
     "execution_count": 17,
     "metadata": {},
     "output_type": "execute_result"
    }
   ],
   "source": [
    "list(n)"
   ]
  },
  {
   "cell_type": "code",
   "execution_count": 19,
   "id": "6dde7e75-d0d8-49c3-bf3e-f68b8f8a747a",
   "metadata": {},
   "outputs": [
    {
     "data": {
      "text/plain": [
       "['c',\n",
       " 'o',\n",
       " 'l',\n",
       " 'l',\n",
       " 'e',\n",
       " 'g',\n",
       " 'e',\n",
       " 1,\n",
       " 345,\n",
       " 46,\n",
       " 'Nitish',\n",
       " True,\n",
       " (9+46j),\n",
       " 24.654]"
      ]
     },
     "execution_count": 19,
     "metadata": {},
     "output_type": "execute_result"
    }
   ],
   "source": [
    "list(n) + l"
   ]
  },
  {
   "cell_type": "code",
   "execution_count": 20,
   "id": "5ceef1bc-9034-4eb1-b7bc-6e6a05fd8751",
   "metadata": {},
   "outputs": [
    {
     "data": {
      "text/plain": [
       "[1, 345, 46, 'Nitish', True, (9+46j), 24.654]"
      ]
     },
     "execution_count": 20,
     "metadata": {},
     "output_type": "execute_result"
    }
   ],
   "source": [
    "l"
   ]
  },
  {
   "cell_type": "code",
   "execution_count": 21,
   "id": "1daab5d3-ff68-4f7b-b8da-73702a014779",
   "metadata": {},
   "outputs": [
    {
     "data": {
      "text/plain": [
       "'Nitish'"
      ]
     },
     "execution_count": 21,
     "metadata": {},
     "output_type": "execute_result"
    }
   ],
   "source": [
    "l[3]"
   ]
  },
  {
   "cell_type": "code",
   "execution_count": 22,
   "id": "f480edb0-43ff-48f0-a6e8-b700df116aba",
   "metadata": {},
   "outputs": [
    {
     "data": {
      "text/plain": [
       "str"
      ]
     },
     "execution_count": 22,
     "metadata": {},
     "output_type": "execute_result"
    }
   ],
   "source": [
    "type(l[3])"
   ]
  },
  {
   "cell_type": "code",
   "execution_count": 23,
   "id": "77eded2d-756d-4ef6-81eb-049f41c6d387",
   "metadata": {},
   "outputs": [
    {
     "data": {
      "text/plain": [
       "'Ni'"
      ]
     },
     "execution_count": 23,
     "metadata": {},
     "output_type": "execute_result"
    }
   ],
   "source": [
    "l[3][0:2]"
   ]
  },
  {
   "cell_type": "code",
   "execution_count": 25,
   "id": "42884571-8adf-4690-98a0-5ac41d05c986",
   "metadata": {},
   "outputs": [
    {
     "data": {
      "text/plain": [
       "True"
      ]
     },
     "execution_count": 25,
     "metadata": {},
     "output_type": "execute_result"
    }
   ],
   "source": [
    "l[4]"
   ]
  },
  {
   "cell_type": "code",
   "execution_count": 26,
   "id": "d6f42311-a7d0-4397-bb69-7869f5f7dda6",
   "metadata": {},
   "outputs": [
    {
     "data": {
      "text/plain": [
       "'Tr'"
      ]
     },
     "execution_count": 26,
     "metadata": {},
     "output_type": "execute_result"
    }
   ],
   "source": [
    "str(l[4])[0:2]"
   ]
  },
  {
   "cell_type": "code",
   "execution_count": 27,
   "id": "e8c43c24-799f-4c6f-8e4a-abb63573dc5f",
   "metadata": {},
   "outputs": [
    {
     "ename": "TypeError",
     "evalue": "can only concatenate list (not \"int\") to list",
     "output_type": "error",
     "traceback": [
      "\u001b[0;31m---------------------------------------------------------------------------\u001b[0m",
      "\u001b[0;31mTypeError\u001b[0m                                 Traceback (most recent call last)",
      "Cell \u001b[0;32mIn[27], line 1\u001b[0m\n\u001b[0;32m----> 1\u001b[0m \u001b[43ml\u001b[49m\u001b[43m \u001b[49m\u001b[38;5;241;43m+\u001b[39;49m\u001b[43m \u001b[49m\u001b[38;5;241;43m5\u001b[39;49m\n",
      "\u001b[0;31mTypeError\u001b[0m: can only concatenate list (not \"int\") to list"
     ]
    }
   ],
   "source": [
    "l + 5"
   ]
  },
  {
   "cell_type": "code",
   "execution_count": 28,
   "id": "7d85c8fd-69f9-40e1-b8ea-e3f4dc998c4e",
   "metadata": {},
   "outputs": [],
   "source": [
    "l1 = [2,3,4,5]"
   ]
  },
  {
   "cell_type": "code",
   "execution_count": 29,
   "id": "51e56897-b851-402d-bc70-4a048619cba6",
   "metadata": {},
   "outputs": [
    {
     "data": {
      "text/plain": [
       "[1, 345, 46, 'Nitish', True, (9+46j), 24.654, 2, 3, 4, 5]"
      ]
     },
     "execution_count": 29,
     "metadata": {},
     "output_type": "execute_result"
    }
   ],
   "source": [
    "l + l1"
   ]
  },
  {
   "cell_type": "code",
   "execution_count": 30,
   "id": "ceb82335-4584-4300-9b09-8fa4751a51e0",
   "metadata": {},
   "outputs": [
    {
     "data": {
      "text/plain": [
       "[2, 3, 4, 5, 2, 3, 4, 5, 2, 3, 4, 5]"
      ]
     },
     "execution_count": 30,
     "metadata": {},
     "output_type": "execute_result"
    }
   ],
   "source": [
    "l1 * 3"
   ]
  },
  {
   "cell_type": "code",
   "execution_count": 31,
   "id": "998067d1-9227-4ab7-a680-43184f4ce2f6",
   "metadata": {},
   "outputs": [
    {
     "data": {
      "text/plain": [
       "[1, 345, 46, 'Nitish', True, (9+46j), 24.654]"
      ]
     },
     "execution_count": 31,
     "metadata": {},
     "output_type": "execute_result"
    }
   ],
   "source": [
    "l"
   ]
  },
  {
   "cell_type": "code",
   "execution_count": 32,
   "id": "041f169d-fe0b-4e11-8587-a77bed17d298",
   "metadata": {},
   "outputs": [
    {
     "data": {
      "text/plain": [
       "7"
      ]
     },
     "execution_count": 32,
     "metadata": {},
     "output_type": "execute_result"
    }
   ],
   "source": [
    "len(l)"
   ]
  },
  {
   "cell_type": "code",
   "execution_count": 33,
   "id": "4e482734-4dde-42fd-af5c-cc861174a60b",
   "metadata": {},
   "outputs": [
    {
     "data": {
      "text/plain": [
       "21"
      ]
     },
     "execution_count": 33,
     "metadata": {},
     "output_type": "execute_result"
    }
   ],
   "source": [
    "len(l*3)"
   ]
  },
  {
   "cell_type": "code",
   "execution_count": 34,
   "id": "b5a2dd0e-6eff-44a2-adbd-37d9ddbe25b7",
   "metadata": {},
   "outputs": [
    {
     "data": {
      "text/plain": [
       "12"
      ]
     },
     "execution_count": 34,
     "metadata": {},
     "output_type": "execute_result"
    }
   ],
   "source": [
    "len(l1*3)"
   ]
  },
  {
   "cell_type": "code",
   "execution_count": 35,
   "id": "2c19e604-9d2f-44df-a2ba-d6a55eeb5e7c",
   "metadata": {},
   "outputs": [
    {
     "data": {
      "text/plain": [
       "[1, 345, 46, 'Nitish', True, (9+46j), 24.654]"
      ]
     },
     "execution_count": 35,
     "metadata": {},
     "output_type": "execute_result"
    }
   ],
   "source": [
    "l"
   ]
  },
  {
   "cell_type": "code",
   "execution_count": 36,
   "id": "348187a1-d923-4ed9-99ec-92d57c5f5747",
   "metadata": {},
   "outputs": [],
   "source": [
    "l.append(10)"
   ]
  },
  {
   "cell_type": "code",
   "execution_count": 37,
   "id": "d06a1833-f4c3-4ca5-b944-c42489f4ce5f",
   "metadata": {},
   "outputs": [
    {
     "data": {
      "text/plain": [
       "[1, 345, 46, 'Nitish', True, (9+46j), 24.654, 10]"
      ]
     },
     "execution_count": 37,
     "metadata": {},
     "output_type": "execute_result"
    }
   ],
   "source": [
    "l"
   ]
  },
  {
   "cell_type": "code",
   "execution_count": 38,
   "id": "3d48ed67-6936-4396-9132-9735f4c84c46",
   "metadata": {},
   "outputs": [],
   "source": [
    "l.append(n)"
   ]
  },
  {
   "cell_type": "code",
   "execution_count": 39,
   "id": "a9d4f21f-dd2e-4ac2-87db-0860b07a09a5",
   "metadata": {},
   "outputs": [
    {
     "data": {
      "text/plain": [
       "'college'"
      ]
     },
     "execution_count": 39,
     "metadata": {},
     "output_type": "execute_result"
    }
   ],
   "source": [
    "n"
   ]
  },
  {
   "cell_type": "code",
   "execution_count": 40,
   "id": "eca9b088-9ffe-44e1-8c9b-e106de828f86",
   "metadata": {},
   "outputs": [
    {
     "data": {
      "text/plain": [
       "[1, 345, 46, 'Nitish', True, (9+46j), 24.654, 10, 'college']"
      ]
     },
     "execution_count": 40,
     "metadata": {},
     "output_type": "execute_result"
    }
   ],
   "source": [
    "l"
   ]
  },
  {
   "cell_type": "code",
   "execution_count": 41,
   "id": "d19c4f4f-993b-44e6-8cfd-0b8dc3f58a2f",
   "metadata": {},
   "outputs": [
    {
     "data": {
      "text/plain": [
       "[2, 3, 4, 5]"
      ]
     },
     "execution_count": 41,
     "metadata": {},
     "output_type": "execute_result"
    }
   ],
   "source": [
    "l1"
   ]
  },
  {
   "cell_type": "code",
   "execution_count": 42,
   "id": "b6fb75bd-1071-4f2a-9096-504b37026c58",
   "metadata": {},
   "outputs": [],
   "source": [
    "l.append(l1)"
   ]
  },
  {
   "cell_type": "code",
   "execution_count": 43,
   "id": "21f00d86-a0b5-45c3-94b4-58fffe27122e",
   "metadata": {},
   "outputs": [
    {
     "data": {
      "text/plain": [
       "[1, 345, 46, 'Nitish', True, (9+46j), 24.654, 10, 'college', [2, 3, 4, 5]]"
      ]
     },
     "execution_count": 43,
     "metadata": {},
     "output_type": "execute_result"
    }
   ],
   "source": [
    "l"
   ]
  },
  {
   "cell_type": "code",
   "execution_count": 44,
   "id": "c9851e08-4b11-41cd-91f0-5533f8c0c028",
   "metadata": {},
   "outputs": [
    {
     "data": {
      "text/plain": [
       "[2, 3, 4, 5]"
      ]
     },
     "execution_count": 44,
     "metadata": {},
     "output_type": "execute_result"
    }
   ],
   "source": [
    "l[-1]"
   ]
  },
  {
   "cell_type": "code",
   "execution_count": 45,
   "id": "b352407f-a857-4852-847a-30a1fab4de5d",
   "metadata": {},
   "outputs": [
    {
     "data": {
      "text/plain": [
       "3"
      ]
     },
     "execution_count": 45,
     "metadata": {},
     "output_type": "execute_result"
    }
   ],
   "source": [
    "l[-1][1]"
   ]
  },
  {
   "cell_type": "code",
   "execution_count": 46,
   "id": "094c4b3c-0edd-4a95-83eb-a6c31fd992aa",
   "metadata": {},
   "outputs": [
    {
     "data": {
      "text/plain": [
       "[1, 345, 46, 'Nitish', True, (9+46j), 24.654, 10, 'college', [2, 3, 4, 5]]"
      ]
     },
     "execution_count": 46,
     "metadata": {},
     "output_type": "execute_result"
    }
   ],
   "source": [
    "l"
   ]
  },
  {
   "cell_type": "code",
   "execution_count": 47,
   "id": "0b717cb5-42d7-4d96-8b39-4fd816478ae6",
   "metadata": {},
   "outputs": [
    {
     "ename": "TypeError",
     "evalue": "'int' object is not iterable",
     "output_type": "error",
     "traceback": [
      "\u001b[0;31m---------------------------------------------------------------------------\u001b[0m",
      "\u001b[0;31mTypeError\u001b[0m                                 Traceback (most recent call last)",
      "Cell \u001b[0;32mIn[47], line 1\u001b[0m\n\u001b[0;32m----> 1\u001b[0m \u001b[43ml\u001b[49m\u001b[38;5;241;43m.\u001b[39;49m\u001b[43mextend\u001b[49m\u001b[43m(\u001b[49m\u001b[38;5;241;43m3\u001b[39;49m\u001b[43m)\u001b[49m\n",
      "\u001b[0;31mTypeError\u001b[0m: 'int' object is not iterable"
     ]
    }
   ],
   "source": [
    "l.extend(3)"
   ]
  },
  {
   "cell_type": "code",
   "execution_count": 48,
   "id": "4c670099-5086-4e3d-95df-714ae830c3e5",
   "metadata": {},
   "outputs": [],
   "source": [
    "l.extend(\"Nitish\")"
   ]
  },
  {
   "cell_type": "code",
   "execution_count": 49,
   "id": "d1407d9d-93af-4da6-b31a-e49be8363111",
   "metadata": {},
   "outputs": [
    {
     "data": {
      "text/plain": [
       "[1,\n",
       " 345,\n",
       " 46,\n",
       " 'Nitish',\n",
       " True,\n",
       " (9+46j),\n",
       " 24.654,\n",
       " 10,\n",
       " 'college',\n",
       " [2, 3, 4, 5],\n",
       " 'N',\n",
       " 'i',\n",
       " 't',\n",
       " 'i',\n",
       " 's',\n",
       " 'h']"
      ]
     },
     "execution_count": 49,
     "metadata": {},
     "output_type": "execute_result"
    }
   ],
   "source": [
    "l"
   ]
  },
  {
   "cell_type": "code",
   "execution_count": 50,
   "id": "c1f87b54-0439-4544-b935-9cc965a2b38b",
   "metadata": {},
   "outputs": [],
   "source": [
    "l.extend([2,3,4,5])"
   ]
  },
  {
   "cell_type": "code",
   "execution_count": 51,
   "id": "0cc7f137-e6a3-4a17-9d80-f495fdde585a",
   "metadata": {},
   "outputs": [
    {
     "data": {
      "text/plain": [
       "[1,\n",
       " 345,\n",
       " 46,\n",
       " 'Nitish',\n",
       " True,\n",
       " (9+46j),\n",
       " 24.654,\n",
       " 10,\n",
       " 'college',\n",
       " [2, 3, 4, 5],\n",
       " 'N',\n",
       " 'i',\n",
       " 't',\n",
       " 'i',\n",
       " 's',\n",
       " 'h',\n",
       " 2,\n",
       " 3,\n",
       " 4,\n",
       " 5]"
      ]
     },
     "execution_count": 51,
     "metadata": {},
     "output_type": "execute_result"
    }
   ],
   "source": [
    "l"
   ]
  },
  {
   "cell_type": "code",
   "execution_count": 52,
   "id": "8aa79eb5-d96a-49ab-916d-1d122d5e48cc",
   "metadata": {},
   "outputs": [
    {
     "data": {
      "text/plain": [
       "[2, 3, 4, 5]"
      ]
     },
     "execution_count": 52,
     "metadata": {},
     "output_type": "execute_result"
    }
   ],
   "source": [
    "l1"
   ]
  },
  {
   "cell_type": "code",
   "execution_count": 53,
   "id": "9cbf49c7-7dcb-4b04-a4d5-7a19ffaf34a0",
   "metadata": {},
   "outputs": [],
   "source": [
    "l1.insert(1, \"Chandra\")"
   ]
  },
  {
   "cell_type": "code",
   "execution_count": 54,
   "id": "2410e02a-2d04-4f82-ada6-26bf977a7440",
   "metadata": {},
   "outputs": [
    {
     "data": {
      "text/plain": [
       "[2, 'Chandra', 3, 4, 5]"
      ]
     },
     "execution_count": 54,
     "metadata": {},
     "output_type": "execute_result"
    }
   ],
   "source": [
    "l1"
   ]
  },
  {
   "cell_type": "code",
   "execution_count": 55,
   "id": "e447ab4c-1a0f-4bc3-8592-7824e4e6b386",
   "metadata": {},
   "outputs": [],
   "source": [
    "l1.insert(2, [9, 8, 7, 6])"
   ]
  },
  {
   "cell_type": "code",
   "execution_count": 56,
   "id": "ee9331c6-d96d-47e7-865b-531e08af9947",
   "metadata": {},
   "outputs": [
    {
     "data": {
      "text/plain": [
       "[2, 'Chandra', [9, 8, 7, 6], 3, 4, 5]"
      ]
     },
     "execution_count": 56,
     "metadata": {},
     "output_type": "execute_result"
    }
   ],
   "source": [
    "l1"
   ]
  },
  {
   "cell_type": "code",
   "execution_count": 58,
   "id": "e8eba777-36c3-4455-b99c-23a47c8c368b",
   "metadata": {},
   "outputs": [],
   "source": [
    "l1.insert(-1, 46)"
   ]
  },
  {
   "cell_type": "code",
   "execution_count": 59,
   "id": "316270fd-9d23-4f88-b556-e39ff95cacdf",
   "metadata": {},
   "outputs": [
    {
     "data": {
      "text/plain": [
       "[2, 'Chandra', [9, 8, 7, 6], 3, 4, 46, 5]"
      ]
     },
     "execution_count": 59,
     "metadata": {},
     "output_type": "execute_result"
    }
   ],
   "source": [
    "l1"
   ]
  },
  {
   "cell_type": "code",
   "execution_count": 60,
   "id": "8f415b12-8405-431a-bd3c-9c2e235cd4a6",
   "metadata": {},
   "outputs": [],
   "source": [
    "l1.insert(0, 123)"
   ]
  },
  {
   "cell_type": "code",
   "execution_count": 61,
   "id": "f9b72d11-b8b8-46b8-850d-1a05e760b7e8",
   "metadata": {},
   "outputs": [
    {
     "data": {
      "text/plain": [
       "[123, 2, 'Chandra', [9, 8, 7, 6], 3, 4, 46, 5]"
      ]
     },
     "execution_count": 61,
     "metadata": {},
     "output_type": "execute_result"
    }
   ],
   "source": [
    "l1"
   ]
  },
  {
   "cell_type": "code",
   "execution_count": 62,
   "id": "1ce38cc3-96c1-4929-a74b-cea88fa91930",
   "metadata": {},
   "outputs": [
    {
     "data": {
      "text/plain": [
       "5"
      ]
     },
     "execution_count": 62,
     "metadata": {},
     "output_type": "execute_result"
    }
   ],
   "source": [
    "l1.pop()"
   ]
  },
  {
   "cell_type": "code",
   "execution_count": 63,
   "id": "b77d7f49-034d-4c5b-a72a-5cb8c2a3a5b5",
   "metadata": {},
   "outputs": [
    {
     "data": {
      "text/plain": [
       "[123, 2, 'Chandra', [9, 8, 7, 6], 3, 4, 46]"
      ]
     },
     "execution_count": 63,
     "metadata": {},
     "output_type": "execute_result"
    }
   ],
   "source": [
    "l1"
   ]
  },
  {
   "cell_type": "code",
   "execution_count": 64,
   "id": "01f98514-aa2e-48b6-875f-c98efcae99b6",
   "metadata": {},
   "outputs": [
    {
     "data": {
      "text/plain": [
       "46"
      ]
     },
     "execution_count": 64,
     "metadata": {},
     "output_type": "execute_result"
    }
   ],
   "source": [
    "l1.pop()"
   ]
  },
  {
   "cell_type": "code",
   "execution_count": 65,
   "id": "06970421-99a6-4f7c-a42d-9796bfa11ff1",
   "metadata": {},
   "outputs": [
    {
     "data": {
      "text/plain": [
       "[123, 2, 'Chandra', [9, 8, 7, 6], 3, 4]"
      ]
     },
     "execution_count": 65,
     "metadata": {},
     "output_type": "execute_result"
    }
   ],
   "source": [
    "l1"
   ]
  },
  {
   "cell_type": "code",
   "execution_count": 66,
   "id": "fed90170-94dd-45a1-b160-02ff61e35119",
   "metadata": {},
   "outputs": [
    {
     "data": {
      "text/plain": [
       "[9, 8, 7, 6]"
      ]
     },
     "execution_count": 66,
     "metadata": {},
     "output_type": "execute_result"
    }
   ],
   "source": [
    "l1.pop(3)"
   ]
  },
  {
   "cell_type": "code",
   "execution_count": 67,
   "id": "68838b0d-383d-4852-b817-de7041cf481b",
   "metadata": {},
   "outputs": [
    {
     "data": {
      "text/plain": [
       "[123, 2, 'Chandra', 3, 4]"
      ]
     },
     "execution_count": 67,
     "metadata": {},
     "output_type": "execute_result"
    }
   ],
   "source": [
    "l1"
   ]
  },
  {
   "cell_type": "code",
   "execution_count": 68,
   "id": "e4d1b419-366f-4c03-babd-b271fc0aa22d",
   "metadata": {},
   "outputs": [
    {
     "data": {
      "text/plain": [
       "[123, 2, 'Chandra', 3, 4]"
      ]
     },
     "execution_count": 68,
     "metadata": {},
     "output_type": "execute_result"
    }
   ],
   "source": [
    "l1"
   ]
  },
  {
   "cell_type": "code",
   "execution_count": 69,
   "id": "83f48c07-53e2-4f15-b663-21fd4743f954",
   "metadata": {},
   "outputs": [],
   "source": [
    "l1.remove(2)"
   ]
  },
  {
   "cell_type": "code",
   "execution_count": 70,
   "id": "abec976d-beb2-49a5-a42a-2b85ac6e3fb5",
   "metadata": {},
   "outputs": [
    {
     "data": {
      "text/plain": [
       "[123, 'Chandra', 3, 4]"
      ]
     },
     "execution_count": 70,
     "metadata": {},
     "output_type": "execute_result"
    }
   ],
   "source": [
    "l1"
   ]
  },
  {
   "cell_type": "code",
   "execution_count": 71,
   "id": "5f27deb3-07cf-4710-b552-e452707c47a8",
   "metadata": {},
   "outputs": [
    {
     "ename": "ValueError",
     "evalue": "list.remove(x): x not in list",
     "output_type": "error",
     "traceback": [
      "\u001b[0;31m---------------------------------------------------------------------------\u001b[0m",
      "\u001b[0;31mValueError\u001b[0m                                Traceback (most recent call last)",
      "Cell \u001b[0;32mIn[71], line 1\u001b[0m\n\u001b[0;32m----> 1\u001b[0m \u001b[43ml1\u001b[49m\u001b[38;5;241;43m.\u001b[39;49m\u001b[43mremove\u001b[49m\u001b[43m(\u001b[49m\u001b[38;5;241;43m346\u001b[39;49m\u001b[43m)\u001b[49m\n",
      "\u001b[0;31mValueError\u001b[0m: list.remove(x): x not in list"
     ]
    }
   ],
   "source": [
    "l1.remove(346)"
   ]
  },
  {
   "cell_type": "code",
   "execution_count": 72,
   "id": "53b428e0-7d58-413e-ae56-a9f2181cb1cb",
   "metadata": {},
   "outputs": [],
   "source": [
    "l1.insert(-1, [6, 4, 7, 8])"
   ]
  },
  {
   "cell_type": "code",
   "execution_count": 73,
   "id": "bc142b8f-eefa-4f70-b1db-65cba50c97e6",
   "metadata": {},
   "outputs": [
    {
     "data": {
      "text/plain": [
       "[123, 'Chandra', 3, [6, 4, 7, 8], 4]"
      ]
     },
     "execution_count": 73,
     "metadata": {},
     "output_type": "execute_result"
    }
   ],
   "source": [
    "l1"
   ]
  },
  {
   "cell_type": "code",
   "execution_count": 74,
   "id": "cc88e3fd-7a65-4377-91b6-4aa1f53deae8",
   "metadata": {},
   "outputs": [],
   "source": [
    "l1[3].remove(7)"
   ]
  },
  {
   "cell_type": "code",
   "execution_count": 80,
   "id": "c76bfa7e-c525-4ca0-a053-8262fb9fabb4",
   "metadata": {},
   "outputs": [
    {
     "data": {
      "text/plain": [
       "[123, 'Chandra', 3, [6, 4, 8], 4]"
      ]
     },
     "execution_count": 80,
     "metadata": {},
     "output_type": "execute_result"
    }
   ],
   "source": [
    "l1"
   ]
  },
  {
   "cell_type": "code",
   "execution_count": 81,
   "id": "d8b93a07-fdc3-4afd-8221-4cc85943f669",
   "metadata": {},
   "outputs": [],
   "source": [
    "l1.append(4)"
   ]
  },
  {
   "cell_type": "code",
   "execution_count": 82,
   "id": "501553a4-a01c-43ec-925a-9745c048be49",
   "metadata": {},
   "outputs": [
    {
     "data": {
      "text/plain": [
       "[123, 'Chandra', 3, [6, 4, 8], 4, 4]"
      ]
     },
     "execution_count": 82,
     "metadata": {},
     "output_type": "execute_result"
    }
   ],
   "source": [
    "l1"
   ]
  },
  {
   "cell_type": "code",
   "execution_count": 83,
   "id": "89b49c3d-a6b4-4506-8f90-10395e1e4a66",
   "metadata": {},
   "outputs": [],
   "source": [
    "l1.remove(4)"
   ]
  },
  {
   "cell_type": "code",
   "execution_count": 84,
   "id": "159d0bc1-1ce7-44d9-84d0-e9f2473c4492",
   "metadata": {},
   "outputs": [
    {
     "data": {
      "text/plain": [
       "[123, 'Chandra', 3, [6, 4, 8], 4]"
      ]
     },
     "execution_count": 84,
     "metadata": {},
     "output_type": "execute_result"
    }
   ],
   "source": [
    "l1"
   ]
  },
  {
   "cell_type": "code",
   "execution_count": 85,
   "id": "0ff331b5-26cb-458a-8f86-f026dfd128a6",
   "metadata": {},
   "outputs": [
    {
     "data": {
      "text/plain": [
       "[4, [6, 4, 8], 3, 'Chandra', 123]"
      ]
     },
     "execution_count": 85,
     "metadata": {},
     "output_type": "execute_result"
    }
   ],
   "source": [
    "l1[::-1]"
   ]
  },
  {
   "cell_type": "code",
   "execution_count": 86,
   "id": "c850b119-fb64-40cc-8fea-5fef0557ec90",
   "metadata": {},
   "outputs": [],
   "source": [
    "l1.reverse()"
   ]
  },
  {
   "cell_type": "code",
   "execution_count": 87,
   "id": "9e1df0b2-92eb-4ad7-855b-d2271468051e",
   "metadata": {},
   "outputs": [
    {
     "data": {
      "text/plain": [
       "[4, [6, 4, 8], 3, 'Chandra', 123]"
      ]
     },
     "execution_count": 87,
     "metadata": {},
     "output_type": "execute_result"
    }
   ],
   "source": [
    "l1"
   ]
  },
  {
   "cell_type": "code",
   "execution_count": 88,
   "id": "b569e0be-cfbd-4605-99a8-f8d6887c9fdb",
   "metadata": {},
   "outputs": [],
   "source": [
    "l1 = l1[::-1]"
   ]
  },
  {
   "cell_type": "code",
   "execution_count": 89,
   "id": "4b0899f6-fa4a-47ed-9815-0dbdc81a813b",
   "metadata": {},
   "outputs": [
    {
     "data": {
      "text/plain": [
       "[123, 'Chandra', 3, [6, 4, 8], 4]"
      ]
     },
     "execution_count": 89,
     "metadata": {},
     "output_type": "execute_result"
    }
   ],
   "source": [
    "l1"
   ]
  },
  {
   "cell_type": "code",
   "execution_count": 90,
   "id": "e27d7fb3-9125-493e-848d-3bb9923d7754",
   "metadata": {},
   "outputs": [
    {
     "data": {
      "text/plain": [
       "[123, 'Chandra', 3, [6, 4, 8], 4]"
      ]
     },
     "execution_count": 90,
     "metadata": {},
     "output_type": "execute_result"
    }
   ],
   "source": [
    "l1"
   ]
  },
  {
   "cell_type": "code",
   "execution_count": 91,
   "id": "c918be2d-5db6-4e9f-84ba-85a0cd03769a",
   "metadata": {},
   "outputs": [
    {
     "ename": "TypeError",
     "evalue": "'<' not supported between instances of 'str' and 'int'",
     "output_type": "error",
     "traceback": [
      "\u001b[0;31m---------------------------------------------------------------------------\u001b[0m",
      "\u001b[0;31mTypeError\u001b[0m                                 Traceback (most recent call last)",
      "Cell \u001b[0;32mIn[91], line 1\u001b[0m\n\u001b[0;32m----> 1\u001b[0m \u001b[43ml1\u001b[49m\u001b[38;5;241;43m.\u001b[39;49m\u001b[43msort\u001b[49m\u001b[43m(\u001b[49m\u001b[43m)\u001b[49m\n",
      "\u001b[0;31mTypeError\u001b[0m: '<' not supported between instances of 'str' and 'int'"
     ]
    }
   ],
   "source": [
    "l1.sort()"
   ]
  },
  {
   "cell_type": "code",
   "execution_count": 92,
   "id": "6301e310-b4dc-40c6-a405-29ba12addd38",
   "metadata": {},
   "outputs": [],
   "source": [
    "l2 = [46, 23, 56, 46, 90, 0, 2, 3, 5]"
   ]
  },
  {
   "cell_type": "code",
   "execution_count": 95,
   "id": "7ad6194a-b7b8-47b5-b0c3-16cb8feeb853",
   "metadata": {},
   "outputs": [],
   "source": [
    "l2.sort()"
   ]
  },
  {
   "cell_type": "code",
   "execution_count": 96,
   "id": "602a58b3-679a-4d34-9552-34460d939bd1",
   "metadata": {},
   "outputs": [
    {
     "data": {
      "text/plain": [
       "[0, 2, 3, 5, 23, 46, 46, 56, 90]"
      ]
     },
     "execution_count": 96,
     "metadata": {},
     "output_type": "execute_result"
    }
   ],
   "source": [
    "l2"
   ]
  },
  {
   "cell_type": "code",
   "execution_count": 97,
   "id": "46bebd2e-cad9-47a3-8137-e49cb9c8977b",
   "metadata": {},
   "outputs": [],
   "source": [
    "l3 = [34, \"Nitish\", 46, 9, \"Chandra\"]"
   ]
  },
  {
   "cell_type": "code",
   "execution_count": 98,
   "id": "b94efcb1-f29e-4ca8-ab0d-3244a50e492b",
   "metadata": {},
   "outputs": [
    {
     "ename": "TypeError",
     "evalue": "'<' not supported between instances of 'str' and 'int'",
     "output_type": "error",
     "traceback": [
      "\u001b[0;31m---------------------------------------------------------------------------\u001b[0m",
      "\u001b[0;31mTypeError\u001b[0m                                 Traceback (most recent call last)",
      "Cell \u001b[0;32mIn[98], line 1\u001b[0m\n\u001b[0;32m----> 1\u001b[0m \u001b[43ml3\u001b[49m\u001b[38;5;241;43m.\u001b[39;49m\u001b[43msort\u001b[49m\u001b[43m(\u001b[49m\u001b[43m)\u001b[49m\n",
      "\u001b[0;31mTypeError\u001b[0m: '<' not supported between instances of 'str' and 'int'"
     ]
    }
   ],
   "source": [
    "l3.sort()"
   ]
  },
  {
   "cell_type": "code",
   "execution_count": 99,
   "id": "12dd6858-6edf-42d7-91f0-475ed2b6728c",
   "metadata": {},
   "outputs": [],
   "source": [
    "l4 = [\"Nitish\", \"Chandra\", \"College\", \"Data Science\", \"Smile\"]"
   ]
  },
  {
   "cell_type": "code",
   "execution_count": 100,
   "id": "4e87785d-42f6-4fa0-8246-64c68545c9e2",
   "metadata": {},
   "outputs": [],
   "source": [
    "l4.sort()"
   ]
  },
  {
   "cell_type": "code",
   "execution_count": 101,
   "id": "c6354de5-5bb1-4212-87ec-73eba97c65d0",
   "metadata": {},
   "outputs": [
    {
     "data": {
      "text/plain": [
       "['Chandra', 'College', 'Data Science', 'Nitish', 'Smile']"
      ]
     },
     "execution_count": 101,
     "metadata": {},
     "output_type": "execute_result"
    }
   ],
   "source": [
    "l4"
   ]
  },
  {
   "cell_type": "code",
   "execution_count": 102,
   "id": "28055f85-165f-4610-aad4-a2cf65592645",
   "metadata": {},
   "outputs": [],
   "source": [
    "l4.sort(reverse=True)"
   ]
  },
  {
   "cell_type": "code",
   "execution_count": 103,
   "id": "5ffdca34-1737-4ef2-9413-d4b296eedaa2",
   "metadata": {},
   "outputs": [
    {
     "data": {
      "text/plain": [
       "['Smile', 'Nitish', 'Data Science', 'College', 'Chandra']"
      ]
     },
     "execution_count": 103,
     "metadata": {},
     "output_type": "execute_result"
    }
   ],
   "source": [
    "l4"
   ]
  },
  {
   "cell_type": "code",
   "execution_count": 104,
   "id": "68e22252-12e1-4a9f-b36e-aee1860e4aba",
   "metadata": {},
   "outputs": [
    {
     "data": {
      "text/plain": [
       "0"
      ]
     },
     "execution_count": 104,
     "metadata": {},
     "output_type": "execute_result"
    }
   ],
   "source": [
    "l4.index(\"Smile\")"
   ]
  },
  {
   "cell_type": "code",
   "execution_count": 105,
   "id": "3157f451-bb3e-448d-b774-7a63e531257d",
   "metadata": {},
   "outputs": [
    {
     "data": {
      "text/plain": [
       "1"
      ]
     },
     "execution_count": 105,
     "metadata": {},
     "output_type": "execute_result"
    }
   ],
   "source": [
    "l4.count(\"Smile\")"
   ]
  },
  {
   "cell_type": "code",
   "execution_count": 106,
   "id": "9e611087-9f80-47c0-8b13-75493f3285b1",
   "metadata": {},
   "outputs": [],
   "source": [
    "k = \"approach\""
   ]
  },
  {
   "cell_type": "code",
   "execution_count": 107,
   "id": "8bc307a5-b397-4e5c-a9b1-5916a6b270b1",
   "metadata": {},
   "outputs": [],
   "source": [
    "l5 = [8, 5, 9, 3]"
   ]
  },
  {
   "cell_type": "code",
   "execution_count": 108,
   "id": "2a04dd57-8c8f-41ea-9b20-638cc21c1b2c",
   "metadata": {},
   "outputs": [
    {
     "data": {
      "text/plain": [
       "'a'"
      ]
     },
     "execution_count": 108,
     "metadata": {},
     "output_type": "execute_result"
    }
   ],
   "source": [
    "k[0]"
   ]
  },
  {
   "cell_type": "code",
   "execution_count": 109,
   "id": "e8d4005a-153f-460e-aec3-8972d23b4896",
   "metadata": {},
   "outputs": [
    {
     "ename": "TypeError",
     "evalue": "'str' object does not support item assignment",
     "output_type": "error",
     "traceback": [
      "\u001b[0;31m---------------------------------------------------------------------------\u001b[0m",
      "\u001b[0;31mTypeError\u001b[0m                                 Traceback (most recent call last)",
      "Cell \u001b[0;32mIn[109], line 1\u001b[0m\n\u001b[0;32m----> 1\u001b[0m \u001b[43mk\u001b[49m\u001b[43m[\u001b[49m\u001b[38;5;241;43m0\u001b[39;49m\u001b[43m]\u001b[49m \u001b[38;5;241m=\u001b[39m \u001b[38;5;124m'\u001b[39m\u001b[38;5;124mS\u001b[39m\u001b[38;5;124m'\u001b[39m\n",
      "\u001b[0;31mTypeError\u001b[0m: 'str' object does not support item assignment"
     ]
    }
   ],
   "source": [
    "k[0] = 'S'"
   ]
  },
  {
   "cell_type": "code",
   "execution_count": 110,
   "id": "7e4d4954-cdc2-4749-82ac-cd9a59ec5da6",
   "metadata": {},
   "outputs": [
    {
     "data": {
      "text/plain": [
       "8"
      ]
     },
     "execution_count": 110,
     "metadata": {},
     "output_type": "execute_result"
    }
   ],
   "source": [
    "l5[0]"
   ]
  },
  {
   "cell_type": "code",
   "execution_count": 111,
   "id": "3a19366b-2af7-4187-b655-b12d94e02552",
   "metadata": {},
   "outputs": [],
   "source": [
    "l5[0] = 46"
   ]
  },
  {
   "cell_type": "code",
   "execution_count": 112,
   "id": "3fa649d5-c873-443e-a9ec-1aafcc3c911a",
   "metadata": {},
   "outputs": [
    {
     "data": {
      "text/plain": [
       "[46, 5, 9, 3]"
      ]
     },
     "execution_count": 112,
     "metadata": {},
     "output_type": "execute_result"
    }
   ],
   "source": [
    "l5"
   ]
  },
  {
   "cell_type": "code",
   "execution_count": 113,
   "id": "da5359c8-1a7d-44cf-959a-e86c231c4755",
   "metadata": {},
   "outputs": [
    {
     "data": {
      "text/plain": [
       "'approach'"
      ]
     },
     "execution_count": 113,
     "metadata": {},
     "output_type": "execute_result"
    }
   ],
   "source": [
    "k"
   ]
  },
  {
   "cell_type": "code",
   "execution_count": 114,
   "id": "d52c4845-51e5-4b67-a0ad-b6d01e8f864e",
   "metadata": {},
   "outputs": [
    {
     "data": {
      "text/plain": [
       "'SpproSch'"
      ]
     },
     "execution_count": 114,
     "metadata": {},
     "output_type": "execute_result"
    }
   ],
   "source": [
    "k.replace('a', 'S')"
   ]
  },
  {
   "cell_type": "code",
   "execution_count": 116,
   "id": "b2d610ea-b8f6-4aec-b4d9-432fbe9159fa",
   "metadata": {},
   "outputs": [],
   "source": [
    "t = (2, 3, 4, 5, \"Development\", 46.121, False, 46+123j, [8,7,6,5])"
   ]
  },
  {
   "cell_type": "code",
   "execution_count": 117,
   "id": "3b8ab02e-8d8b-4579-b94f-26083ddd9e5d",
   "metadata": {},
   "outputs": [
    {
     "data": {
      "text/plain": [
       "(2, 3, 4, 5, 'Development', 46.121, False, (46+123j), [8, 7, 6, 5])"
      ]
     },
     "execution_count": 117,
     "metadata": {},
     "output_type": "execute_result"
    }
   ],
   "source": [
    "t"
   ]
  },
  {
   "cell_type": "code",
   "execution_count": 118,
   "id": "78bc97c8-fb0d-46a0-95e6-16aba5de7e1b",
   "metadata": {},
   "outputs": [
    {
     "data": {
      "text/plain": [
       "tuple"
      ]
     },
     "execution_count": 118,
     "metadata": {},
     "output_type": "execute_result"
    }
   ],
   "source": [
    "type(t)"
   ]
  },
  {
   "cell_type": "code",
   "execution_count": 119,
   "id": "2391a79e-63bf-455b-9aab-3c0aab21d9d7",
   "metadata": {},
   "outputs": [
    {
     "data": {
      "text/plain": [
       "9"
      ]
     },
     "execution_count": 119,
     "metadata": {},
     "output_type": "execute_result"
    }
   ],
   "source": [
    "len(t)"
   ]
  },
  {
   "cell_type": "code",
   "execution_count": 120,
   "id": "c378a4e4-c41d-46b4-9aeb-bfd242f791fb",
   "metadata": {},
   "outputs": [
    {
     "data": {
      "text/plain": [
       "2"
      ]
     },
     "execution_count": 120,
     "metadata": {},
     "output_type": "execute_result"
    }
   ],
   "source": [
    "t[0]"
   ]
  },
  {
   "cell_type": "code",
   "execution_count": 121,
   "id": "f63307b7-e090-4f80-ade4-a6a284d9d92f",
   "metadata": {},
   "outputs": [
    {
     "data": {
      "text/plain": [
       "[8, 7, 6, 5]"
      ]
     },
     "execution_count": 121,
     "metadata": {},
     "output_type": "execute_result"
    }
   ],
   "source": [
    "t[-1]"
   ]
  },
  {
   "cell_type": "code",
   "execution_count": 122,
   "id": "71e6e99b-1bd8-444d-b3f8-805235be18fb",
   "metadata": {},
   "outputs": [
    {
     "data": {
      "text/plain": [
       "([8, 7, 6, 5], (46+123j), False, 46.121, 'Development', 5, 4, 3, 2)"
      ]
     },
     "execution_count": 122,
     "metadata": {},
     "output_type": "execute_result"
    }
   ],
   "source": [
    "t[::-1]"
   ]
  },
  {
   "cell_type": "code",
   "execution_count": 123,
   "id": "3a5d8373-3db1-4a2b-ab96-d779bb133036",
   "metadata": {},
   "outputs": [
    {
     "data": {
      "text/plain": [
       "['Smile', 'Nitish', 'Data Science', 'College', 'Chandra']"
      ]
     },
     "execution_count": 123,
     "metadata": {},
     "output_type": "execute_result"
    }
   ],
   "source": [
    "l4"
   ]
  },
  {
   "cell_type": "code",
   "execution_count": 124,
   "id": "0d756fed-3437-4d58-ac36-a25f6b26eb49",
   "metadata": {},
   "outputs": [
    {
     "data": {
      "text/plain": [
       "'Smile'"
      ]
     },
     "execution_count": 124,
     "metadata": {},
     "output_type": "execute_result"
    }
   ],
   "source": [
    "l4[0]"
   ]
  },
  {
   "cell_type": "code",
   "execution_count": 125,
   "id": "9d30bf33-7655-4bcd-9c06-bb212551ae20",
   "metadata": {},
   "outputs": [],
   "source": [
    "l4[0] = 3010"
   ]
  },
  {
   "cell_type": "code",
   "execution_count": 126,
   "id": "c2e08a5c-2aed-45bf-8bc2-642d0232b2a2",
   "metadata": {},
   "outputs": [
    {
     "data": {
      "text/plain": [
       "[3010, 'Nitish', 'Data Science', 'College', 'Chandra']"
      ]
     },
     "execution_count": 126,
     "metadata": {},
     "output_type": "execute_result"
    }
   ],
   "source": [
    "l4"
   ]
  },
  {
   "cell_type": "code",
   "execution_count": 127,
   "id": "c666b6e4-298b-4509-b550-4e8b23d14628",
   "metadata": {},
   "outputs": [
    {
     "data": {
      "text/plain": [
       "(2, 3, 4, 5, 'Development', 46.121, False, (46+123j), [8, 7, 6, 5])"
      ]
     },
     "execution_count": 127,
     "metadata": {},
     "output_type": "execute_result"
    }
   ],
   "source": [
    "t"
   ]
  },
  {
   "cell_type": "code",
   "execution_count": 128,
   "id": "54e17487-a673-494f-b45b-89a1ab909bee",
   "metadata": {},
   "outputs": [
    {
     "data": {
      "text/plain": [
       "2"
      ]
     },
     "execution_count": 128,
     "metadata": {},
     "output_type": "execute_result"
    }
   ],
   "source": [
    "t[0]"
   ]
  },
  {
   "cell_type": "code",
   "execution_count": 129,
   "id": "3dfa2e33-684f-4f63-aaf4-1397e9549aea",
   "metadata": {},
   "outputs": [
    {
     "ename": "TypeError",
     "evalue": "'tuple' object does not support item assignment",
     "output_type": "error",
     "traceback": [
      "\u001b[0;31m---------------------------------------------------------------------------\u001b[0m",
      "\u001b[0;31mTypeError\u001b[0m                                 Traceback (most recent call last)",
      "Cell \u001b[0;32mIn[129], line 1\u001b[0m\n\u001b[0;32m----> 1\u001b[0m \u001b[43mt\u001b[49m\u001b[43m[\u001b[49m\u001b[38;5;241;43m0\u001b[39;49m\u001b[43m]\u001b[49m \u001b[38;5;241m=\u001b[39m \u001b[38;5;124m\"\u001b[39m\u001b[38;5;124mDevelopment\u001b[39m\u001b[38;5;124m\"\u001b[39m\n",
      "\u001b[0;31mTypeError\u001b[0m: 'tuple' object does not support item assignment"
     ]
    }
   ],
   "source": [
    "t[0] = \"Development\""
   ]
  },
  {
   "cell_type": "code",
   "execution_count": 130,
   "id": "7ae273d0-9707-437c-bb65-41d38cc6b584",
   "metadata": {},
   "outputs": [
    {
     "data": {
      "text/plain": [
       "([8, 7, 6, 5], (46+123j), False, 46.121, 'Development', 5, 4, 3, 2)"
      ]
     },
     "execution_count": 130,
     "metadata": {},
     "output_type": "execute_result"
    }
   ],
   "source": [
    "t[::-1]"
   ]
  },
  {
   "cell_type": "code",
   "execution_count": 131,
   "id": "22795db3-86e3-410f-920c-3a6bb24d699a",
   "metadata": {},
   "outputs": [
    {
     "data": {
      "text/plain": [
       "1"
      ]
     },
     "execution_count": 131,
     "metadata": {},
     "output_type": "execute_result"
    }
   ],
   "source": [
    "t.count(5)"
   ]
  },
  {
   "cell_type": "code",
   "execution_count": 132,
   "id": "445fbd4e-491d-4619-a0d2-cd99b9e3ac85",
   "metadata": {},
   "outputs": [
    {
     "data": {
      "text/plain": [
       "0"
      ]
     },
     "execution_count": 132,
     "metadata": {},
     "output_type": "execute_result"
    }
   ],
   "source": [
    "t.count(50)"
   ]
  },
  {
   "cell_type": "code",
   "execution_count": 133,
   "id": "dc47e824-c5aa-4bc5-91e2-90a44eb20db2",
   "metadata": {},
   "outputs": [
    {
     "data": {
      "text/plain": [
       "6"
      ]
     },
     "execution_count": 133,
     "metadata": {},
     "output_type": "execute_result"
    }
   ],
   "source": [
    "t.index(False)"
   ]
  },
  {
   "cell_type": "code",
   "execution_count": 134,
   "id": "984667e9-d1c0-428e-9aa5-e8f4f61b1891",
   "metadata": {},
   "outputs": [
    {
     "data": {
      "text/plain": [
       "(2, 3, 4, 5, 'Development', 46.121, False, (46+123j), [8, 7, 6, 5])"
      ]
     },
     "execution_count": 134,
     "metadata": {},
     "output_type": "execute_result"
    }
   ],
   "source": [
    "t"
   ]
  },
  {
   "cell_type": "code",
   "execution_count": 135,
   "id": "f1cff216-45ee-4a0f-a265-9c1ebfa9cd37",
   "metadata": {},
   "outputs": [],
   "source": [
    "s1 = {}"
   ]
  },
  {
   "cell_type": "code",
   "execution_count": 136,
   "id": "cd36912f-b3d3-4726-b9a0-63555f90783f",
   "metadata": {},
   "outputs": [
    {
     "data": {
      "text/plain": [
       "dict"
      ]
     },
     "execution_count": 136,
     "metadata": {},
     "output_type": "execute_result"
    }
   ],
   "source": [
    "type(s1)"
   ]
  },
  {
   "cell_type": "code",
   "execution_count": 137,
   "id": "1cae41fe-428b-4fb2-b196-68e6654d6712",
   "metadata": {},
   "outputs": [],
   "source": [
    "s2 = {2, 3, 4, 5, 6, 46, 123}"
   ]
  },
  {
   "cell_type": "code",
   "execution_count": 138,
   "id": "b30728c4-438a-493b-96a1-357cdd90d4da",
   "metadata": {},
   "outputs": [
    {
     "data": {
      "text/plain": [
       "set"
      ]
     },
     "execution_count": 138,
     "metadata": {},
     "output_type": "execute_result"
    }
   ],
   "source": [
    "type(s2)"
   ]
  },
  {
   "cell_type": "code",
   "execution_count": 139,
   "id": "0f472d51-f0ad-4f97-b545-e2c024119e3e",
   "metadata": {},
   "outputs": [],
   "source": [
    "s3 = {246, 56, 47, \"Nitish\", 46+123j, 53.765, (3,2,4,5)}"
   ]
  },
  {
   "cell_type": "code",
   "execution_count": 140,
   "id": "b683e774-c10e-415a-b582-e43996b24b67",
   "metadata": {},
   "outputs": [
    {
     "data": {
      "text/plain": [
       "{(3, 2, 4, 5), (46+123j), 246, 47, 53.765, 56, 'Nitish'}"
      ]
     },
     "execution_count": 140,
     "metadata": {},
     "output_type": "execute_result"
    }
   ],
   "source": [
    "s3"
   ]
  },
  {
   "cell_type": "code",
   "execution_count": 141,
   "id": "c0c4397f-306f-4b37-85e8-0b47c41f2f54",
   "metadata": {},
   "outputs": [
    {
     "ename": "TypeError",
     "evalue": "unhashable type: 'list'",
     "output_type": "error",
     "traceback": [
      "\u001b[0;31m---------------------------------------------------------------------------\u001b[0m",
      "\u001b[0;31mTypeError\u001b[0m                                 Traceback (most recent call last)",
      "Cell \u001b[0;32mIn[141], line 1\u001b[0m\n\u001b[0;32m----> 1\u001b[0m s4 \u001b[38;5;241m=\u001b[39m {\u001b[38;5;241m246\u001b[39m, \u001b[38;5;241m56\u001b[39m, \u001b[38;5;241m47\u001b[39m, \u001b[38;5;124m\"\u001b[39m\u001b[38;5;124mNitish\u001b[39m\u001b[38;5;124m\"\u001b[39m, \u001b[38;5;241m46\u001b[39m\u001b[38;5;241m+\u001b[39m\u001b[38;5;241m123\u001b[39mj, \u001b[38;5;241m53.765\u001b[39m, (\u001b[38;5;241m3\u001b[39m,\u001b[38;5;241m2\u001b[39m,\u001b[38;5;241m4\u001b[39m,\u001b[38;5;241m5\u001b[39m), [\u001b[38;5;241m3\u001b[39m, \u001b[38;5;241m4\u001b[39m, \u001b[38;5;241m5\u001b[39m, \u001b[38;5;241m6\u001b[39m]}\n",
      "\u001b[0;31mTypeError\u001b[0m: unhashable type: 'list'"
     ]
    }
   ],
   "source": [
    "s4 = {246, 56, 47, \"Nitish\", 46+123j, 53.765, (3,2,4,5), [3, 4, 5, 6]}"
   ]
  },
  {
   "cell_type": "code",
   "execution_count": 144,
   "id": "1d5bb6b3-07b1-4360-859d-4364d6edd86a",
   "metadata": {},
   "outputs": [],
   "source": [
    "s5 = {2, 3, 4, 5, 6, 2, 3, 4, 5, 6, 1, 2, 3, 4, 5, 2, 3, 4, 'Smile', 'smile', 'Trust'}"
   ]
  },
  {
   "cell_type": "code",
   "execution_count": 145,
   "id": "0b29f140-8230-4c75-8b1c-071541c175ed",
   "metadata": {},
   "outputs": [
    {
     "data": {
      "text/plain": [
       "{1, 2, 3, 4, 5, 6, 'Smile', 'Trust', 'smile'}"
      ]
     },
     "execution_count": 145,
     "metadata": {},
     "output_type": "execute_result"
    }
   ],
   "source": [
    "s5"
   ]
  },
  {
   "cell_type": "code",
   "execution_count": 147,
   "id": "801a5f21-0c5a-484b-a3d9-04a2525281b0",
   "metadata": {},
   "outputs": [],
   "source": [
    "l6 = [2, 3, 4, 5, 6, 2, 3, 4, 5, 6, 1, 2, 3, 4, 5, 2, 3, 4, 'Smile', 'smile', 'Trust']"
   ]
  },
  {
   "cell_type": "code",
   "execution_count": 148,
   "id": "296f84ff-4e47-47a4-a33f-d34cda416e63",
   "metadata": {},
   "outputs": [
    {
     "data": {
      "text/plain": [
       "{1, 2, 3, 4, 5, 6, 'Smile', 'Trust', 'smile'}"
      ]
     },
     "execution_count": 148,
     "metadata": {},
     "output_type": "execute_result"
    }
   ],
   "source": [
    "set(l6)"
   ]
  },
  {
   "cell_type": "code",
   "execution_count": 149,
   "id": "3be8f8f8-2d70-4e71-a495-56ec04bf566e",
   "metadata": {},
   "outputs": [],
   "source": [
    "l6 = set(l6)"
   ]
  },
  {
   "cell_type": "code",
   "execution_count": 150,
   "id": "7a85cd81-d8c2-4435-b0b1-5b3f2a024502",
   "metadata": {},
   "outputs": [
    {
     "data": {
      "text/plain": [
       "{1, 2, 3, 4, 5, 6, 'Smile', 'Trust', 'smile'}"
      ]
     },
     "execution_count": 150,
     "metadata": {},
     "output_type": "execute_result"
    }
   ],
   "source": [
    "l6"
   ]
  },
  {
   "cell_type": "code",
   "execution_count": 151,
   "id": "b7d560c5-da10-4626-9df3-c3ecba49bd33",
   "metadata": {},
   "outputs": [],
   "source": [
    "l6 = list(set(l6))"
   ]
  },
  {
   "cell_type": "code",
   "execution_count": 152,
   "id": "0996c66a-3e2b-4a9f-bf90-80254fb1f03c",
   "metadata": {},
   "outputs": [
    {
     "data": {
      "text/plain": [
       "[1, 2, 3, 4, 5, 6, 'smile', 'Trust', 'Smile']"
      ]
     },
     "execution_count": 152,
     "metadata": {},
     "output_type": "execute_result"
    }
   ],
   "source": [
    "l6"
   ]
  },
  {
   "cell_type": "code",
   "execution_count": 168,
   "id": "f6e5a580-06dd-4e45-bf71-8ca6abcf5cb0",
   "metadata": {},
   "outputs": [],
   "source": [
    "s6 = {234, 35, 46, 23, 12, 567, 45, 2, 789, 234, \"abc\", 456, 342,}"
   ]
  },
  {
   "cell_type": "code",
   "execution_count": 169,
   "id": "13bd60c0-0016-4415-b375-ff5352c6bb29",
   "metadata": {},
   "outputs": [
    {
     "data": {
      "text/plain": [
       "{12, 2, 23, 234, 342, 35, 45, 456, 46, 567, 789, 'abc'}"
      ]
     },
     "execution_count": 169,
     "metadata": {},
     "output_type": "execute_result"
    }
   ],
   "source": [
    "s6"
   ]
  },
  {
   "cell_type": "code",
   "execution_count": 170,
   "id": "5172fba8-039c-4a50-b08d-490c9f7849f6",
   "metadata": {},
   "outputs": [
    {
     "data": {
      "text/plain": [
       "{12, 2, 23, 234, 342, 35, 45, 456, 46, 567, 789, 'abc'}"
      ]
     },
     "execution_count": 170,
     "metadata": {},
     "output_type": "execute_result"
    }
   ],
   "source": [
    "s6"
   ]
  },
  {
   "cell_type": "code",
   "execution_count": 171,
   "id": "3319ff89-3474-426f-a2ea-3aab6f191799",
   "metadata": {},
   "outputs": [
    {
     "ename": "TypeError",
     "evalue": "'set' object is not subscriptable",
     "output_type": "error",
     "traceback": [
      "\u001b[0;31m---------------------------------------------------------------------------\u001b[0m",
      "\u001b[0;31mTypeError\u001b[0m                                 Traceback (most recent call last)",
      "Cell \u001b[0;32mIn[171], line 1\u001b[0m\n\u001b[0;32m----> 1\u001b[0m \u001b[43ms6\u001b[49m\u001b[43m[\u001b[49m\u001b[38;5;241;43m0\u001b[39;49m\u001b[43m]\u001b[49m\n",
      "\u001b[0;31mTypeError\u001b[0m: 'set' object is not subscriptable"
     ]
    }
   ],
   "source": [
    "s6[0]"
   ]
  },
  {
   "cell_type": "code",
   "execution_count": 172,
   "id": "86be7e1e-974d-4f34-a942-751289655da4",
   "metadata": {},
   "outputs": [
    {
     "ename": "TypeError",
     "evalue": "'set' object is not subscriptable",
     "output_type": "error",
     "traceback": [
      "\u001b[0;31m---------------------------------------------------------------------------\u001b[0m",
      "\u001b[0;31mTypeError\u001b[0m                                 Traceback (most recent call last)",
      "Cell \u001b[0;32mIn[172], line 1\u001b[0m\n\u001b[0;32m----> 1\u001b[0m \u001b[43ms6\u001b[49m\u001b[43m[\u001b[49m\u001b[43m:\u001b[49m\u001b[43m:\u001b[49m\u001b[38;5;241;43m-\u001b[39;49m\u001b[38;5;241;43m1\u001b[39;49m\u001b[43m]\u001b[49m\n",
      "\u001b[0;31mTypeError\u001b[0m: 'set' object is not subscriptable"
     ]
    }
   ],
   "source": [
    "s6[::-1]"
   ]
  },
  {
   "cell_type": "code",
   "execution_count": 173,
   "id": "ddeeda78-d68d-4c50-bd59-791c8110a5d9",
   "metadata": {},
   "outputs": [],
   "source": [
    "s6.add(4)"
   ]
  },
  {
   "cell_type": "code",
   "execution_count": 174,
   "id": "152b7d5a-a487-4f51-ad8f-8715744301e0",
   "metadata": {},
   "outputs": [
    {
     "data": {
      "text/plain": [
       "{12, 2, 23, 234, 342, 35, 4, 45, 456, 46, 567, 789, 'abc'}"
      ]
     },
     "execution_count": 174,
     "metadata": {},
     "output_type": "execute_result"
    }
   ],
   "source": [
    "s6"
   ]
  },
  {
   "cell_type": "code",
   "execution_count": 175,
   "id": "262cff9b-12e3-4e0f-abbc-b5a96743179c",
   "metadata": {},
   "outputs": [],
   "source": [
    "s6.remove(2)"
   ]
  },
  {
   "cell_type": "code",
   "execution_count": 177,
   "id": "a3bec2cc-a91a-4f59-9309-c4424c359b90",
   "metadata": {},
   "outputs": [
    {
     "data": {
      "text/plain": [
       "{12, 23, 234, 342, 35, 4, 45, 456, 46, 567, 789, 'abc'}"
      ]
     },
     "execution_count": 177,
     "metadata": {},
     "output_type": "execute_result"
    }
   ],
   "source": [
    "s6"
   ]
  },
  {
   "cell_type": "code",
   "execution_count": null,
   "id": "b695667a-7630-44f9-9896-7115ae87472a",
   "metadata": {},
   "outputs": [],
   "source": []
  }
 ],
 "metadata": {
  "kernelspec": {
   "display_name": "Python 3 (ipykernel)",
   "language": "python",
   "name": "python3"
  },
  "language_info": {
   "codemirror_mode": {
    "name": "ipython",
    "version": 3
   },
   "file_extension": ".py",
   "mimetype": "text/x-python",
   "name": "python",
   "nbconvert_exporter": "python",
   "pygments_lexer": "ipython3",
   "version": "3.10.8"
  }
 },
 "nbformat": 4,
 "nbformat_minor": 5
}
